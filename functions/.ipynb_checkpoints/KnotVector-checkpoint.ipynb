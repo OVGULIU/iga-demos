{
 "metadata": {
  "language": "Julia",
  "name": "",
  "signature": "sha256:0d024dfcea65f9138b10a32d7205cd267d1822a828c44c6a77de85b40e31892e"
 },
 "nbformat": 3,
 "nbformat_minor": 0,
 "worksheets": [
  {
   "cells": [
    {
     "cell_type": "heading",
     "level": 1,
     "metadata": {},
     "source": [
      "Examples Functionality knotvector.jl"
     ]
    },
    {
     "cell_type": "raw",
     "metadata": {},
     "source": [
      "# knotvector.jl contains all basic functionality in order to construct and manipulate B-spline knotvectors\n",
      "#\n",
      "# Functions:\n",
      "# \t\tbuildvector()           -  construct a knotvector using a vector with increasing values of type T and a vector #                                          specifying the knot multiplicity\n",
      "#       uniqueknots()           -  decompose a knotvector into an increasing vector of Float64, the knotmultiplicity, and \n",
      "#                                  vectors specifying indexing into the knotvector\n",
      "#\t\tglobalrefine()          -  put k new knots inside the non-zero knotspans of the knotvector\n",
      "#\t\tfindspan()              -  determine the knot span index of a point 'u' in the knotvector 'kts'\n",
      "#\t\tfindnonzerospan()       -  find span of all non-zero span elements in knotvector kts\n",
      "#\t\tgetelementknotvectors() -  Determine the local knotvectors of each non-zero-span element in the knovector"
     ]
    },
    {
     "cell_type": "heading",
     "level": 3,
     "metadata": {},
     "source": [
      "Initialize"
     ]
    },
    {
     "cell_type": "code",
     "collapsed": false,
     "input": [
      "# addpath library path\n",
      "push!(LOAD_PATH, \"/Users/rene/Box Sync/MultiPhysicsLab/Julia/functions\")\n",
      "\n",
      "# load library functions and modules\n",
      "require(\"knotvector.jl\")"
     ],
     "language": "python",
     "metadata": {},
     "outputs": [],
     "prompt_number": 1
    },
    {
     "cell_type": "heading",
     "level": 3,
     "metadata": {},
     "source": [
      "function buildvector{T<:Number}(uvals::Array{T,1},mult::Array{Int64,1})"
     ]
    },
    {
     "cell_type": "raw",
     "metadata": {},
     "source": [
      "# construct a knotvector using a vector with increasing values of type T and a vector specifying the knot multiplicity\n",
      "#\n",
      "# input:\n",
      "#    uvals :: Vector{T}   - vector with increasing values of type T\n",
      "#    mult  :: Vector{Int} - vector specifying the knot multiplicity\n",
      "#\n",
      "# output:\n",
      "#    kts   :: Vector{T}   - knotvector with knot values of type T"
     ]
    },
    {
     "cell_type": "code",
     "collapsed": false,
     "input": [
      "# example input and output\n",
      "uvals = [0.0,1.0,2.0,3.0,4.0,5.0]\n",
      "mult  = [3,1,1,1,2,3]\n",
      "kts   = buildvector(uvals,mult)"
     ],
     "language": "python",
     "metadata": {},
     "outputs": [
      {
       "metadata": {},
       "output_type": "pyout",
       "prompt_number": 2,
       "text": [
        "11-element Array{Float64,1}:\n",
        " 0.0\n",
        " 0.0\n",
        " 0.0\n",
        " 1.0\n",
        " 2.0\n",
        " 3.0\n",
        " 4.0\n",
        " 4.0\n",
        " 5.0\n",
        " 5.0\n",
        " 5.0"
       ]
      }
     ],
     "prompt_number": 2
    },
    {
     "cell_type": "heading",
     "level": 3,
     "metadata": {},
     "source": [
      "function uniqueknots(knots::Array{Float64,1})"
     ]
    },
    {
     "cell_type": "raw",
     "metadata": {},
     "source": [
      "# decompose a knotvector into an increasing vector of Float64, the knotmultiplicity, and vectors specifying indexing into \n",
      "# the knotvector\n",
      "#\n",
      "# input:\n",
      "#    kts :: Vector{Float64}  - knotvector\n",
      "#\n",
      "# output:\n",
      "#    ukts   :: Vector{Float64} - unique knot values in increasing order\n",
      "#    mult   :: Vector{Int}     - corresponding knot multiplicity\n",
      "#    inda   :: Vector{Int}     - indexing such that kts==ukts[inda]\n",
      "#    indb   :: Vector{Int}     - indexing such that kts[indb]==ukts"
     ]
    },
    {
     "cell_type": "code",
     "collapsed": false,
     "input": [
      "# example input and output\n",
      "kts = buildvector([0.0,1.0,2.0,3.0,4.0,5.0],[3,1,1,1,2,3])\n",
      "ukts, mult, inda, indb = uniqueknots(kts)"
     ],
     "language": "python",
     "metadata": {},
     "outputs": [
      {
       "metadata": {},
       "output_type": "pyout",
       "prompt_number": 3,
       "text": [
        "([0.0,1.0,2.0,3.0,4.0,5.0],[3,1,1,1,2,3],[1,1,1,2,3,4,5,5,6,6,6],[1,4,5,6,7,9])"
       ]
      }
     ],
     "prompt_number": 3
    },
    {
     "cell_type": "code",
     "collapsed": false,
     "input": [
      "println(\"The unique set of knots are: $ukts\")\n",
      "println(\"The knot multiplicity is: $mult\")"
     ],
     "language": "python",
     "metadata": {},
     "outputs": [
      {
       "output_type": "stream",
       "stream": "stdout",
       "text": [
        "The unique set of knots are: [0.0,1.0,2.0,3.0,4.0,5.0]\n"
       ]
      },
      {
       "output_type": "stream",
       "stream": "stdout",
       "text": [
        "The knot multiplicity is: [3,1,1,1,2,3]\n"
       ]
      }
     ],
     "prompt_number": 4
    },
    {
     "cell_type": "code",
     "collapsed": false,
     "input": [
      "# example indexing 1\n",
      "kts==ukts[inda]"
     ],
     "language": "python",
     "metadata": {},
     "outputs": [
      {
       "metadata": {},
       "output_type": "pyout",
       "prompt_number": 5,
       "text": [
        "true"
       ]
      }
     ],
     "prompt_number": 5
    },
    {
     "cell_type": "code",
     "collapsed": false,
     "input": [
      "# example indexing 2\n",
      "ukts==kts[indb]"
     ],
     "language": "python",
     "metadata": {},
     "outputs": [
      {
       "metadata": {},
       "output_type": "pyout",
       "prompt_number": 8,
       "text": [
        "true"
       ]
      }
     ],
     "prompt_number": 8
    },
    {
     "cell_type": "heading",
     "level": 3,
     "metadata": {},
     "source": [
      "globalrefine(kts::Vector{Float64}, k::Int)"
     ]
    },
    {
     "cell_type": "raw",
     "metadata": {},
     "source": [
      "# global refine knotvector: put k new knots in non-zero knotspans\n",
      "#\n",
      "# input:\n",
      "#    kts    :: Vector{Float64}  - knotvector\n",
      "#    k      :: Int              - integer prescribing the number of new knots to put in current non-zero knot-spans\n",
      "#\n",
      "# output:\n",
      "#    newkts :: Vector{Float64}  - refined knotvector"
     ]
    },
    {
     "cell_type": "code",
     "collapsed": false,
     "input": [
      "# example input and output\n",
      "kts = buildvector([0.0,1.0,2.0,3.0,4.0,5.0],[3,1,1,1,2,3])\n",
      "newkts = globalrefine(kts,3)\n",
      "println(\"Then old knotvector is: $kts\")\n",
      "println(\"Then new knotvector is: $newkts\")"
     ],
     "language": "python",
     "metadata": {},
     "outputs": [
      {
       "output_type": "stream",
       "stream": "stdout",
       "text": [
        "Then old knotvector is: [0.0,0.0,0.0,1.0,2.0,3.0,4.0,4.0,5.0,5.0,5.0]\n"
       ]
      },
      {
       "output_type": "stream",
       "stream": "stdout",
       "text": [
        "Then new knotvector is: [0.0,0.0,0.0,0.25,0.5,0.75,1.0,1.25,1.5,1.75,2.0,2.25,2.5,2.75,3.0,3.25,3.5,3.75,4.0,4.0,4.25,4.5,4.75,5.0,5.0,5.0]\n"
       ]
      }
     ],
     "prompt_number": 12
    },
    {
     "cell_type": "heading",
     "level": 3,
     "metadata": {},
     "source": [
      "findspan(p::Integer, kts::Vector{Float64}, u::Float64)"
     ]
    },
    {
     "cell_type": "raw",
     "metadata": {},
     "source": [
      "# Determine the knot span index of a point 'u' in the knotvector 'kts'\n",
      "#\n",
      "# input:\n",
      "#    p      :: Int              - polynomial degree\n",
      "#    kts    :: Vector{Float64}  - knotvector\n",
      "#    u      :: Float64          - evaluation point\n",
      "#\n",
      "# output:\n",
      "#    span   :: Int              - knot span index of a point 'u' in the knotvector 'kts'"
     ]
    },
    {
     "cell_type": "code",
     "collapsed": false,
     "input": [
      "# example input and output\n",
      "p = 2\n",
      "kts = buildvector([0.0,1.0,2.0,3.0,4.0,5.0],[p+1,1,1,1,2,p+1])\n",
      "u = 2.5\n",
      "span = findspan(p, kts, u)\n",
      "e = kts[span:span+1]\n",
      "println(\"The knotspan index of u = $u is: $span\")\n",
      "println(\"So u = $u is in the knot interval: $e\")"
     ],
     "language": "python",
     "metadata": {},
     "outputs": [
      {
       "output_type": "stream",
       "stream": "stdout",
       "text": [
        "The knotspan index of u = 2.5 is: 5\n"
       ]
      },
      {
       "output_type": "stream",
       "stream": "stdout",
       "text": [
        "So u = 2.5 is in the knot interval: [2.0,3.0]\n"
       ]
      }
     ],
     "prompt_number": 16
    },
    {
     "cell_type": "heading",
     "level": 3,
     "metadata": {},
     "source": [
      "findspan(p::Integer, kts::Vector{Float64}, u::Vector{Float64})"
     ]
    },
    {
     "cell_type": "raw",
     "metadata": {},
     "source": [
      "# Determine the knot span index of a vector of points 'u' in the knotvector 'kts'\n",
      "#\n",
      "# input:\n",
      "#    p      :: Int              - polynomial degree\n",
      "#    kts    :: Vector{Float64}  - knotvector\n",
      "#    u      :: Vector{Float64}  - evaluation point\n",
      "#\n",
      "# output:\n",
      "#    span   :: Vector{Int}      - vector with knot span index of each point u[i] in the knotvector 'kts'"
     ]
    },
    {
     "cell_type": "code",
     "collapsed": false,
     "input": [
      "# example input and output: similar as above function but now for a vector of points 'u'\n",
      "p = 2\n",
      "kts = buildvector([0.0,1.0,2.0,3.0,4.0,5.0],[p+1,1,1,1,2,p+1])\n",
      "u = [0.5,1.5,2.5]\n",
      "span = findspan(p, kts, u)"
     ],
     "language": "python",
     "metadata": {},
     "outputs": [
      {
       "metadata": {},
       "output_type": "pyout",
       "prompt_number": 20,
       "text": [
        "3-element Array{Int64,1}:\n",
        " 3\n",
        " 4\n",
        " 5"
       ]
      }
     ],
     "prompt_number": 20
    },
    {
     "cell_type": "heading",
     "level": 3,
     "metadata": {},
     "source": [
      "findnonzerospan(p::Int, kts::Vector{Float64})"
     ]
    },
    {
     "cell_type": "raw",
     "metadata": {},
     "source": [
      "# find span of all non-zero span elements in knotvector 'kts'\n",
      "#\n",
      "# input:\n",
      "#    p      :: Int              - polynomial degree\n",
      "#    kts    :: Vector{Float64}  - knotvector\n",
      "#\n",
      "# output:\n",
      "#    span   :: Vector{Int}      - vector with knot span index of each non-zero-span elements in the knotvector 'kts'"
     ]
    },
    {
     "cell_type": "code",
     "collapsed": false,
     "input": [
      "# example input output\n",
      "p = 2\n",
      "kts = buildvector([0.0,1.0,2.0,3.0,4.0,5.0],[p+1,1,1,1,2,p+1])\n",
      "span = findnonzerospan(p, kts)\n",
      "println(\"The knotvector is: $kts\")\n",
      "println(\"The nonzerospan elements are numbers: $span\")"
     ],
     "language": "python",
     "metadata": {},
     "outputs": [
      {
       "output_type": "stream",
       "stream": "stdout",
       "text": [
        "The knotvector is: [0.0,0.0,0.0,1.0,2.0,3.0,4.0,4.0,5.0,5.0,5.0]\n"
       ]
      },
      {
       "output_type": "stream",
       "stream": "stdout",
       "text": [
        "The nonzerospan elements are numbers: [3,4,5,6,8]\n"
       ]
      }
     ],
     "prompt_number": 24
    },
    {
     "cell_type": "heading",
     "level": 3,
     "metadata": {},
     "source": [
      "getelementknotvectors(p::Int, kts::Vector{Float64}, span::Vector{Int})"
     ]
    },
    {
     "cell_type": "raw",
     "metadata": {},
     "source": [
      "# get element knot vectors from global knot partition\n",
      "#\n",
      "# input:\n",
      "#    p      :: Int              - polynomial degree\n",
      "#    kts    :: Vector{Float64}  - knotvector\n",
      "#    span   :: Vector{Int}      - span-index of each non-zero knot-span in the knotvector\n",
      "#\n",
      "# output:\n",
      "#    vkts   :: Vector{Vector{Float64}} - vector knotvectors local to each element in knotvector kts"
     ]
    },
    {
     "cell_type": "code",
     "collapsed": false,
     "input": [
      "# example input output\n",
      "p = 2\n",
      "kts = buildvector([0.0,1.0,2.0,3.0,4.0,5.0],[p+1,1,1,1,2,p+1])\n",
      "span = findnonzerospan(p, kts)\n",
      "getelementknotvectors(p,kts,span)"
     ],
     "language": "python",
     "metadata": {},
     "outputs": [
      {
       "metadata": {},
       "output_type": "pyout",
       "prompt_number": 27,
       "text": [
        "5-element Array{Array{Float64,1},1}:\n",
        " [0.0,0.0,0.0,1.0,2.0,3.0]\n",
        " [0.0,0.0,1.0,2.0,3.0,4.0]\n",
        " [0.0,1.0,2.0,3.0,4.0,4.0]\n",
        " [1.0,2.0,3.0,4.0,4.0,5.0]\n",
        " [3.0,4.0,4.0,5.0,5.0,5.0]"
       ]
      }
     ],
     "prompt_number": 27
    },
    {
     "cell_type": "heading",
     "level": 3,
     "metadata": {},
     "source": [
      "getelementknotvectors(p::Int, kts::Vector{Float64})"
     ]
    },
    {
     "cell_type": "raw",
     "metadata": {},
     "source": [
      "# get element knot vectors from global knot partition\n",
      "#\n",
      "# input:\n",
      "#    p      :: Int              - polynomial degree\n",
      "#    kts    :: Vector{Float64}  - knotvector\n",
      "#\n",
      "# output:\n",
      "#    vkts   :: Vector{Vector{Float64}} - vector knotvectors local to each element in knotvector kts"
     ]
    },
    {
     "cell_type": "code",
     "collapsed": false,
     "input": [
      "# example input output - same as above function - no need to specify the knotspan index of the elements\n",
      "p = 2\n",
      "kts = buildvector([0.0,1.0,2.0,3.0,4.0,5.0],[p+1,1,1,1,2,p+1])\n",
      "getelementknotvectors(p,kts)"
     ],
     "language": "python",
     "metadata": {},
     "outputs": [
      {
       "metadata": {},
       "output_type": "pyout",
       "prompt_number": 29,
       "text": [
        "5-element Array{Array{Float64,1},1}:\n",
        " [0.0,0.0,0.0,1.0,2.0,3.0]\n",
        " [0.0,0.0,1.0,2.0,3.0,4.0]\n",
        " [0.0,1.0,2.0,3.0,4.0,4.0]\n",
        " [1.0,2.0,3.0,4.0,4.0,5.0]\n",
        " [3.0,4.0,4.0,5.0,5.0,5.0]"
       ]
      }
     ],
     "prompt_number": 29
    }
   ],
   "metadata": {}
  }
 ]
}