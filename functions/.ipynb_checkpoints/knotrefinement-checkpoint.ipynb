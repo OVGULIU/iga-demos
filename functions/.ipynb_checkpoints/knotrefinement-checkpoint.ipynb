{
 "metadata": {
  "language": "Julia",
  "name": "",
  "signature": "sha256:85ca5de583686b728d1aa95c9fa68146913a52993c5268ca5552e8b8208b6714"
 },
 "nbformat": 3,
 "nbformat_minor": 0,
 "worksheets": [
  {
   "cells": [
    {
     "cell_type": "heading",
     "level": 1,
     "metadata": {},
     "source": [
      "Examples functionality knotrefinement.jl"
     ]
    },
    {
     "cell_type": "raw",
     "metadata": {},
     "source": [
      "###############################################################################################################################\n",
      "############### knotrefinement.jl features univariate knotrefinement, degree elevation and Bezier extraction ##################\n",
      "###############################################################################################################################\n",
      "#\n",
      "# Functions:\n",
      "#       knotinsertionoperator()    -  compute matrix operator from coarse space to h-refined space\n",
      "#       bezierdecompoperator()     -  compute bezier extraction operator\n",
      "#       degreeelevationoperator()  -  compute matrix operator from coarse space to p-refined space\n",
      "#       \n",
      "###############################################################################################################################\n",
      "#\n",
      "# File part of the Julia IsoGeometric Analysis toolbox\n",
      "# R.R.Hiemstra\n",
      "# 14-09-2015\n",
      "#\n",
      "###############################################################################################################################"
     ]
    },
    {
     "cell_type": "code",
     "collapsed": false,
     "input": [
      "# addpath library path\n",
      "push!(LOAD_PATH, \"/Users/rene/Box Sync/MultiPhysicsLab/Julia/functions\")\n",
      "\n",
      "# load library functions and modules\n",
      "require(\"knotvector.jl\")\n",
      "require(\"knotrefinement.jl\")"
     ],
     "language": "python",
     "metadata": {},
     "outputs": [
      {
       "output_type": "stream",
       "stream": "stderr",
       "text": [
        "INFO: Loading help data...\n"
       ]
      }
     ],
     "prompt_number": 1
    },
    {
     "cell_type": "heading",
     "level": 3,
     "metadata": {},
     "source": [
      "function knotinsertionoperator(n::Integer, p::Integer, kts::Vector{Float64}, span::Integer, u::Float64)"
     ]
    },
    {
     "cell_type": "raw",
     "metadata": {},
     "source": [
      "# insert a single knot into knotvector kts and output the transformation operator from the coarse to the refined space\n",
      "#\n",
      "# input:\n",
      "#    n     :: Int              -  dimension of the spline space\n",
      "#    p     :: Int              -  polynomial degree\n",
      "#    kts   :: Vector{Float64}  -  the initial knotvector\n",
      "#    span  :: Int              -  knot span index of new knot 'u' in 'kts'\n",
      "#    u     :: Float64          -  knot to insert\n",
      "#\n",
      "# output:\n",
      "#    C     :: Matrix{Float64}  -  transformation matrix from dofs coarse space to dofs refined space\n",
      "#    nkts   :: Vector{Float64} -  updated knotvector"
     ]
    },
    {
     "cell_type": "code",
     "collapsed": false,
     "input": [
      "# example input and output\n",
      "p = 3\n",
      "ukts  = [0.0,1.0,2.0,3.0,4.0,5.0]\n",
      "mult  = [p+1,1,1,1,2,p+1]\n",
      "kts   = buildvector(ukts,mult)\n",
      "\n",
      "# input\n",
      "u     = 2.5\n",
      "span  = findspan(p,kts,u)\n",
      "n     = dimsplinespace(p,kts)\n",
      "\n",
      "# transformation matrix\n",
      "C, newkts = knotinsertionoperator(n, p, kts, span, u)"
     ],
     "language": "python",
     "metadata": {},
     "outputs": [
      {
       "metadata": {},
       "output_type": "pyout",
       "prompt_number": 2,
       "text": [
        "(\n",
        "10x9 Array{Float64,2}:\n",
        " 1.0  0.0  0.0       0.0       0.0   0.0   0.0  0.0  0.0\n",
        " 0.0  1.0  0.0       0.0       0.0   0.0   0.0  0.0  0.0\n",
        " 0.0  0.0  1.0       0.0       0.0   0.0   0.0  0.0  0.0\n",
        " 0.0  0.0  0.166667  0.833333  0.0   0.0   0.0  0.0  0.0\n",
        " 0.0  0.0  0.0       0.5       0.5   0.0   0.0  0.0  0.0\n",
        " 0.0  0.0  0.0       0.0       0.75  0.25  0.0  0.0  0.0\n",
        " 0.0  0.0  0.0       0.0       0.0   1.0   0.0  0.0  0.0\n",
        " 0.0  0.0  0.0       0.0       0.0   0.0   1.0  0.0  0.0\n",
        " 0.0  0.0  0.0       0.0       0.0   0.0   0.0  1.0  0.0\n",
        " 0.0  0.0  0.0       0.0       0.0   0.0   0.0  0.0  1.0,\n",
        "\n",
        "[0.0,0.0,0.0,0.0,1.0,2.0,2.5,3.0,4.0,4.0,5.0,5.0,5.0,5.0])"
       ]
      }
     ],
     "prompt_number": 2
    },
    {
     "cell_type": "code",
     "collapsed": false,
     "input": [
      "# input can also be updated inplace using the 'function!' notation\n",
      "p = 3\n",
      "ukts  = [0.0,1.0,2.0,3.0,4.0,5.0]\n",
      "mult  = [p+1,1,1,1,2,p+1]\n",
      "kts   = buildvector(ukts,mult)\n",
      "\n",
      "# input\n",
      "u     = 2.5\n",
      "span  = findspan(p,kts,u)\n",
      "n     = dimsplinespace(p,kts)\n",
      "\n",
      "# transformation matrix\n",
      "C = knotinsertionoperator!(n, p, kts, span, u)"
     ],
     "language": "python",
     "metadata": {},
     "outputs": [
      {
       "metadata": {},
       "output_type": "pyout",
       "prompt_number": 3,
       "text": [
        "10x9 Array{Float64,2}:\n",
        " 1.0  0.0  0.0       0.0       0.0   0.0   0.0  0.0  0.0\n",
        " 0.0  1.0  0.0       0.0       0.0   0.0   0.0  0.0  0.0\n",
        " 0.0  0.0  1.0       0.0       0.0   0.0   0.0  0.0  0.0\n",
        " 0.0  0.0  0.166667  0.833333  0.0   0.0   0.0  0.0  0.0\n",
        " 0.0  0.0  0.0       0.5       0.5   0.0   0.0  0.0  0.0\n",
        " 0.0  0.0  0.0       0.0       0.75  0.25  0.0  0.0  0.0\n",
        " 0.0  0.0  0.0       0.0       0.0   1.0   0.0  0.0  0.0\n",
        " 0.0  0.0  0.0       0.0       0.0   0.0   1.0  0.0  0.0\n",
        " 0.0  0.0  0.0       0.0       0.0   0.0   0.0  1.0  0.0\n",
        " 0.0  0.0  0.0       0.0       0.0   0.0   0.0  0.0  1.0"
       ]
      }
     ],
     "prompt_number": 3
    },
    {
     "cell_type": "code",
     "collapsed": false,
     "input": [
      "# the knotvector is updated in place\n",
      "kts"
     ],
     "language": "python",
     "metadata": {},
     "outputs": [
      {
       "metadata": {},
       "output_type": "pyout",
       "prompt_number": 4,
       "text": [
        "14-element Array{Float64,1}:\n",
        " 0.0\n",
        " 0.0\n",
        " 0.0\n",
        " 0.0\n",
        " 1.0\n",
        " 2.0\n",
        " 2.5\n",
        " 3.0\n",
        " 4.0\n",
        " 4.0\n",
        " 5.0\n",
        " 5.0\n",
        " 5.0\n",
        " 5.0"
       ]
      }
     ],
     "prompt_number": 4
    },
    {
     "cell_type": "heading",
     "level": 3,
     "metadata": {},
     "source": [
      "function knotinsertionoperator(p::Int, kts::Vector{Float64}, u::Vector{Float64})"
     ]
    },
    {
     "cell_type": "raw",
     "metadata": {},
     "source": [
      "# insert a multiple knots into knotvector kts and output the transformation operator from the coarse to the refined space\n",
      "#\n",
      "# input:\n",
      "#    p     :: Int              -  polynomial degree\n",
      "#    kts   :: Vector{Float64}  -  the initial knotvector\n",
      "#    u     :: Vector{Float64}  -  vector of knots to insert\n",
      "#\n",
      "# output:\n",
      "#    C     :: SparseMatrixCSC{Float64,Int64}  -  transformation matrix from dofs coarse space to dofs refined space\n",
      "#    nkts  :: Vector{Float64}  -  updated knotvector"
     ]
    },
    {
     "cell_type": "code",
     "collapsed": false,
     "input": [
      "# example input and output\n",
      "p = 3\n",
      "ukts  = [0.0,1.0,2.0,3.0,4.0,5.0]\n",
      "mult  = [p+1,1,1,1,1,p+1]\n",
      "kts   = buildvector(ukts,mult)\n",
      "\n",
      "# input\n",
      "u     = [2.5, 3.5, 4.0]\n",
      "\n",
      "# transformation matrix\n",
      "C, newkts = knotinsertionoperator(p, kts, u)"
     ],
     "language": "python",
     "metadata": {},
     "outputs": [
      {
       "metadata": {},
       "output_type": "pyout",
       "prompt_number": 5,
       "text": [
        "(\n",
        "11x8 Array{Float64,2}:\n",
        " 1.0  0.0  0.0       0.0       0.0   0.0    0.0    0.0\n",
        " 0.0  1.0  0.0       0.0       0.0   0.0    0.0    0.0\n",
        " 0.0  0.0  1.0       0.0       0.0   0.0    0.0    0.0\n",
        " 0.0  0.0  0.166667  0.833333  0.0   0.0    0.0    0.0\n",
        " 0.0  0.0  0.0       0.5       0.5   0.0    0.0    0.0\n",
        " 0.0  0.0  0.0       0.125     0.75  0.125  0.0    0.0\n",
        " 0.0  0.0  0.0       0.0       0.5   0.5    0.0    0.0\n",
        " 0.0  0.0  0.0       0.0       0.25  0.625  0.125  0.0\n",
        " 0.0  0.0  0.0       0.0       0.0   0.5    0.5    0.0\n",
        " 0.0  0.0  0.0       0.0       0.0   0.0    1.0    0.0\n",
        " 0.0  0.0  0.0       0.0       0.0   0.0    0.0    1.0,\n",
        "\n",
        "[0.0,0.0,0.0,0.0,1.0,2.0,2.5,3.0,3.5,4.0,4.0,5.0,5.0,5.0,5.0])"
       ]
      }
     ],
     "prompt_number": 5
    },
    {
     "cell_type": "code",
     "collapsed": false,
     "input": [
      "# input can also be updated inplace using the 'function!' notation\n",
      "p = 3\n",
      "ukts  = [0.0,1.0,2.0,3.0,4.0,5.0]\n",
      "mult  = [p+1,1,1,1,2,p+1]\n",
      "kts   = buildvector(ukts,mult)\n",
      "\n",
      "# input\n",
      "u     = [2.5, 3.5, 4.0]\n",
      "\n",
      "# transformation matrix\n",
      "C = knotinsertionoperator!(p, kts, u)"
     ],
     "language": "python",
     "metadata": {},
     "outputs": [
      {
       "metadata": {},
       "output_type": "pyout",
       "prompt_number": 6,
       "text": [
        "12x9 Array{Float64,2}:\n",
        " 1.0  0.0  0.0       0.0       0.0     0.0     0.0   0.0  0.0\n",
        " 0.0  1.0  0.0       0.0       0.0     0.0     0.0   0.0  0.0\n",
        " 0.0  0.0  1.0       0.0       0.0     0.0     0.0   0.0  0.0\n",
        " 0.0  0.0  0.166667  0.833333  0.0     0.0     0.0   0.0  0.0\n",
        " 0.0  0.0  0.0       0.5       0.5     0.0     0.0   0.0  0.0\n",
        " 0.0  0.0  0.0       0.125     0.6875  0.1875  0.0   0.0  0.0\n",
        " 0.0  0.0  0.0       0.0       0.25    0.75    0.0   0.0  0.0\n",
        " 0.0  0.0  0.0       0.0       0.0     0.75    0.25  0.0  0.0\n",
        " 0.0  0.0  0.0       0.0       0.0     0.5     0.5   0.0  0.0\n",
        " 0.0  0.0  0.0       0.0       0.0     0.0     1.0   0.0  0.0\n",
        " 0.0  0.0  0.0       0.0       0.0     0.0     0.0   1.0  0.0\n",
        " 0.0  0.0  0.0       0.0       0.0     0.0     0.0   0.0  1.0"
       ]
      }
     ],
     "prompt_number": 6
    },
    {
     "cell_type": "code",
     "collapsed": false,
     "input": [
      "# inplace updated knotvector\n",
      "kts"
     ],
     "language": "python",
     "metadata": {},
     "outputs": [
      {
       "metadata": {},
       "output_type": "pyout",
       "prompt_number": 7,
       "text": [
        "16-element Array{Float64,1}:\n",
        " 0.0\n",
        " 0.0\n",
        " 0.0\n",
        " 0.0\n",
        " 1.0\n",
        " 2.0\n",
        " 2.5\n",
        " 3.0\n",
        " 3.5\n",
        " 4.0\n",
        " 4.0\n",
        " 4.0\n",
        " 5.0\n",
        " 5.0\n",
        " 5.0\n",
        " 5.0"
       ]
      }
     ],
     "prompt_number": 7
    },
    {
     "cell_type": "heading",
     "level": 3,
     "metadata": {},
     "source": [
      "function bezierdecompoperator(p::Int, kts::Vector{Float64})"
     ]
    },
    {
     "cell_type": "raw",
     "metadata": {},
     "source": [
      "# compute the element-wise Bezier decomposition operator - (The transpose from the operator in Borden et al)\n",
      "#\n",
      "# input:\n",
      "#    p     :: Int              -  polynomial degree\n",
      "#    kts   :: Vector{Float64}  -  the initial knotvector\n",
      "#\n",
      "# output:\n",
      "#    C     :: Array{Float64,3}  -  3D array; C[:,:,k] denotes the kth Bezier decomp operator"
     ]
    },
    {
     "cell_type": "code",
     "collapsed": false,
     "input": [
      "# example input and output\n",
      "p = 3\n",
      "ukts  = [0.0,1.0,2.0,3.0,4.0,5.0]\n",
      "mult  = [p+1,1,1,1,2,p+1]\n",
      "kts   = buildvector(ukts,mult)\n",
      "\n",
      "C = bezierdecompoperator(p,kts)"
     ],
     "language": "python",
     "metadata": {},
     "outputs": [
      {
       "metadata": {},
       "output_type": "pyout",
       "prompt_number": 3,
       "text": [
        "4x4x5 Array{Float64,3}:\n",
        "[:, :, 1] =\n",
        " 1.0  0.0   0.0       0.0     \n",
        " 0.0  1.0   0.0       0.0     \n",
        " 0.0  0.5   0.5       0.0     \n",
        " 0.0  0.25  0.583333  0.166667\n",
        "\n",
        "[:, :, 2] =\n",
        " 0.25  0.583333  0.166667  0.0     \n",
        " 0.0   0.666667  0.333333  0.0     \n",
        " 0.0   0.333333  0.666667  0.0     \n",
        " 0.0   0.166667  0.666667  0.166667\n",
        "\n",
        "[:, :, 3] =\n",
        " 0.166667  0.666667  0.166667  0.0 \n",
        " 0.0       0.666667  0.333333  0.0 \n",
        " 0.0       0.333333  0.666667  0.0 \n",
        " 0.0       0.166667  0.583333  0.25\n",
        "\n",
        "[:, :, 4] =\n",
        " 0.166667  0.583333  0.25  0.0\n",
        " 0.0       0.5       0.5   0.0\n",
        " 0.0       0.0       1.0   0.0\n",
        " 0.0       0.0       0.5   0.5\n",
        "\n",
        "[:, :, 5] =\n",
        " 0.5  0.5  0.0  0.0\n",
        " 0.0  1.0  0.0  0.0\n",
        " 0.0  0.0  1.0  0.0\n",
        " 0.0  0.0  0.0  1.0"
       ]
      }
     ],
     "prompt_number": 3
    },
    {
     "cell_type": "heading",
     "level": 3,
     "metadata": {},
     "source": [
      "function degreeelevationoperator(p::Int, kts::Vector{Float64},t::Int)"
     ]
    },
    {
     "cell_type": "raw",
     "metadata": {},
     "source": [
      "# compute degree elevation operator from a basis with degree 'p' to a basis with degree 'p+t'\n",
      "#\n",
      "# input:\n",
      "#    p     :: Int              -  polynomial degree\n",
      "#    kts   :: Vector{Float64}  -  the initial knotvector\n",
      "#    t     :: Int              -  raise the degree with 't'\n",
      "# output:\n",
      "#    C     :: Matrix{Float64}  -  3D array; C[:,:,k] denotes the kth Bezier decomp operator\n",
      "#    newknots :: Vector{Float64} - the updated knotvector\n",
      "#    ph       :: Int             - the updated degree 'ph = p + t'"
     ]
    },
    {
     "cell_type": "code",
     "collapsed": false,
     "input": [
      "# example input and output\n",
      "p = 3\n",
      "ukts  = [0.0,1.0,2.0,3.0,4.0,5.0]\n",
      "mult  = [p+1,1,1,1,2,p+1]\n",
      "kts   = buildvector(ukts,mult)\n",
      "\n",
      "# raise the degree of the basis\n",
      "t = 2\n",
      "C, nkts, ph = degreeelevationoperator(p,kts,t)"
     ],
     "language": "python",
     "metadata": {},
     "outputs": [
      {
       "metadata": {},
       "output_type": "pyout",
       "prompt_number": 3,
       "text": [
        "(\n",
        "19x9 Array{Float64,2}:\n",
        " 1.0  0.0    0.0        0.0        0.0        0.0    0.0   0.0  0.0\n",
        " 0.4  0.6    0.0        0.0        0.0        0.0    0.0   0.0  0.0\n",
        " 0.1  0.75   0.15       0.0        0.0        0.0    0.0   0.0  0.0\n",
        " 0.0  0.625  0.358333   0.0166667  0.0        0.0    0.0   0.0  0.0\n",
        " 0.0  0.175  0.708333   0.116667   0.0        0.0    0.0   0.0  0.0\n",
        " 0.0  0.025  0.558333   0.416667   0.0        0.0    0.0   0.0  0.0\n",
        " 0.0  0.0    0.416667   0.566667   0.0166667  0.0    0.0   0.0  0.0\n",
        " 0.0  0.0    0.116667   0.766667   0.116667   0.0    0.0   0.0  0.0\n",
        " 0.0  0.0    0.0166667  0.566667   0.416667   0.0    0.0   0.0  0.0\n",
        " 0.0  0.0    0.0        0.416667   0.558333   0.025  0.0   0.0  0.0\n",
        " 0.0  0.0    0.0        0.116667   0.708333   0.175  0.0   0.0  0.0\n",
        " 0.0  0.0    0.0        0.0166667  0.358333   0.625  0.0   0.0  0.0\n",
        " 0.0  0.0    0.0        0.0        0.15       0.8    0.05  0.0  0.0\n",
        " 0.0  0.0    0.0        0.0        0.0        0.8    0.2   0.0  0.0\n",
        " 0.0  0.0    0.0        0.0        0.0        0.2    0.8   0.0  0.0\n",
        " 0.0  0.0    0.0        0.0        0.0        0.05   0.65  0.3  0.0\n",
        " 0.0  0.0    0.0        0.0        0.0        0.0    0.3   0.6  0.1\n",
        " 0.0  0.0    0.0        0.0        0.0        0.0    0.0   0.6  0.4\n",
        " 0.0  0.0    0.0        0.0        0.0        0.0    0.0   0.0  1.0,\n",
        "\n",
        "[0.0,0.0,0.0,0.0,0.0,0.0,1.0,1.0,1.0,2.0  \u2026  4.0,4.0,4.0,4.0,5.0,5.0,5.0,5.0,5.0,5.0],5)"
       ]
      }
     ],
     "prompt_number": 3
    }
   ],
   "metadata": {}
  }
 ]
}