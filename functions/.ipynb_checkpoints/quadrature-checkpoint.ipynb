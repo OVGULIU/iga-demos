{
 "metadata": {
  "language": "Julia",
  "name": "",
  "signature": "sha256:b3c04f235cd0b38dc24b65ec17ffa590a222d489a68d98dd7249f9aa17850ca4"
 },
 "nbformat": 3,
 "nbformat_minor": 0,
 "worksheets": [
  {
   "cells": [
    {
     "cell_type": "code",
     "collapsed": false,
     "input": [
      "#########################################################################################################################################\n",
      "################################ quadrature.jl features different Gauss integration rules for use in FEA ################################\n",
      "#########################################################################################################################################\n",
      "#\n",
      "# Functions:\n",
      "#       gaussquadrule()     - provides different quadrature rules for use in FEA\n",
      "#\n",
      "#########################################################################################################################################\n",
      "#\n",
      "# File part of the Julia IsoGeometric Analysis toolbox\n",
      "# R.R.Hiemstra\n",
      "# 14-09-2015\n",
      "#\n",
      "#########################################################################################################################################"
     ],
     "language": "python",
     "metadata": {},
     "outputs": [],
     "prompt_number": 1
    },
    {
     "cell_type": "code",
     "collapsed": false,
     "input": [
      "# addpath library path\n",
      "push!(LOAD_PATH, \"/Users/rene/Box Sync/MultiPhysicsLab/Julia/functions\")\n",
      "\n",
      "# load library functions and modules\n",
      "require(\"quadrature.jl\")\n",
      "\n",
      "# some function to integrate\n",
      "f(x) = 0.5x.^4 + 1x.^3 + 2x.^2 + 0.3x + 0.4 "
     ],
     "language": "python",
     "metadata": {},
     "outputs": [
      {
       "metadata": {},
       "output_type": "pyout",
       "prompt_number": 35,
       "text": [
        "f (generic function with 1 method)"
       ]
      }
     ],
     "prompt_number": 35
    },
    {
     "cell_type": "heading",
     "level": 3,
     "metadata": {},
     "source": [
      "function gaussquadrule(n::Int, method=\"legendre\")"
     ]
    },
    {
     "cell_type": "raw",
     "metadata": {},
     "source": [
      "# compute an 'n'-point Gaussian integration rule of type 'method' on the interval [-1,1]\n",
      "#\n",
      "# input:\n",
      "#    n       :: Int             - number of quadrature points\n",
      "#    method  :: String          - choose among the following methods: \"legendre\", \"lobatto\", \"chebyshev\", \"hermite\", \"jacobi\", #                                 \"radau\". If left blank then the standard is \"legendre\"\n",
      "# output:\n",
      "#    u       :: Vector{Float64} - quadrature points\n",
      "#    w       :: Vector{Float64} - quadrature weights"
     ]
    },
    {
     "cell_type": "code",
     "collapsed": false,
     "input": [
      "# compute Gauss-Legendre rule on [-1,1] - if method is left blank then the standard is \"legendre\"\n",
      "u, w = gaussquadrule(3)\n",
      "println(\"The quadrature points are: $u\")\n",
      "println(\"The quadrature weights are: $w\")\n",
      "\n",
      "# compute the integral over function f(x)\n",
      "I = dot(w,f(u))\n",
      "println(\"The integral of f(x) is: $I\")"
     ],
     "language": "python",
     "metadata": {},
     "outputs": [
      {
       "output_type": "stream",
       "stream": "stdout",
       "text": [
        "The quadrature points are: [-0.7745966692414834,0.0,0.7745966692414834]\n"
       ]
      },
      {
       "output_type": "stream",
       "stream": "stdout",
       "text": [
        "The quadrature weights are: [0.5555555555555556,0.8888888888888888,0.5555555555555556]\n",
        "The integral of f(x) is: 2.3333333333333335\n"
       ]
      }
     ],
     "prompt_number": 33
    },
    {
     "cell_type": "code",
     "collapsed": false,
     "input": [
      "# compute Gauss-Lobatto rule on [-1,1]\n",
      "u, w = gaussquadrule(4,\"lobatto\")\n",
      "\n",
      "println(\"The quadrature points are: $u\")\n",
      "println(\"The quadrature weights are: $w\")\n",
      "\n",
      "# compute the integral over function f(x)\n",
      "I = dot(w,f(u))\n",
      "println(\"The integral of f(x) is: $I\")"
     ],
     "language": "python",
     "metadata": {},
     "outputs": [
      {
       "output_type": "stream",
       "stream": "stdout",
       "text": [
        "The quadrature points are: [-1.0,-0.4472135954999579,0.4472135954999579,1.0]\n"
       ]
      },
      {
       "output_type": "stream",
       "stream": "stdout",
       "text": [
        "The quadrature weights are: [0.16666666666666666,0.8333333333333333,0.8333333333333333,0.16666666666666666]\n",
        "The integral of f(x) is: 2.333333333333333\n"
       ]
      }
     ],
     "prompt_number": 39
    },
    {
     "cell_type": "heading",
     "level": 3,
     "metadata": {},
     "source": [
      "function gaussquadrule(a::Float64, b::Float64, n::Integer, method=\"legendre\")"
     ]
    },
    {
     "cell_type": "raw",
     "metadata": {},
     "source": [
      "# compute an 'n'-point Gaussian integration rule of type 'method' on the interval [a,b]\n",
      "#\n",
      "# input:\n",
      "#    a       :: Float64         - left boundary of integration interval\n",
      "#    b       :: Float64         - right boundary of integration interval\n",
      "#    n       :: Int             - number of quadrature points\n",
      "#    method  :: String          - choose among the following methods: \"legendre\", \"lobatto\", \"chebyshev\", \"hermite\", \"jacobi\", \n",
      "#                                 \"radau\". If left blank then the standard is \"legendre\"\n",
      "# output:\n",
      "#    u       :: Vector{Float64} - quadrature points\n",
      "#    w       :: Vector{Float64} - quadrature weights"
     ]
    },
    {
     "cell_type": "code",
     "collapsed": false,
     "input": [
      "# compute Gauss-Legendre rule on [-1,1] - if method is left blank then the standard is \"legendre\"\n",
      "u, w = gaussquadrule(0.0,4.0,3,\"legendre\")\n",
      "println(\"The quadrature points are: $u\")\n",
      "println(\"The quadrature weights are: $w\")\n",
      "\n",
      "# compute the integral over function f(x)\n",
      "I = dot(w,f(u))\n",
      "println(\"The integral of f(x) is: $I\")"
     ],
     "language": "python",
     "metadata": {},
     "outputs": [
      {
       "output_type": "stream",
       "stream": "stdout",
       "text": [
        "The quadrature points are: [0.4508066615170332,2.0,3.549193338482967]\n"
       ]
      },
      {
       "output_type": "stream",
       "stream": "stdout",
       "text": [
        "The quadrature weights are: [1.1111111111111112,1.7777777777777777,1.1111111111111112]\n",
        "The integral of f(x) is: 213.06666666666672\n"
       ]
      }
     ],
     "prompt_number": 46
    },
    {
     "cell_type": "code",
     "collapsed": false,
     "input": [
      "# compute Gauss-Legendre rule on [-1,1] - if method is left blank then the standard is \"legendre\"\n",
      "u, w = gaussquadrule(0.0,4.0,4,\"lobatto\")\n",
      "println(\"The quadrature points are: $u\")\n",
      "println(\"The quadrature weights are: $w\")\n",
      "\n",
      "# compute the integral over function f(x)\n",
      "I = dot(w,f(u))\n",
      "println(\"The integral of f(x) is: $I\")"
     ],
     "language": "python",
     "metadata": {},
     "outputs": [
      {
       "output_type": "stream",
       "stream": "stdout",
       "text": [
        "The quadrature points are: [0.0,1.1055728090000843,2.8944271909999157,4.0]\n"
       ]
      },
      {
       "output_type": "stream",
       "stream": "stdout",
       "text": [
        "The quadrature weights are: [0.3333333333333333,1.6666666666666665,1.6666666666666665,0.3333333333333333]\n",
        "The integral of f(x) is: 213.0666666666666\n"
       ]
      }
     ],
     "prompt_number": 45
    },
    {
     "cell_type": "heading",
     "level": 3,
     "metadata": {},
     "source": [
      "function gaussquadrule(unknots::Array{Float64,1}, n::Integer, method=\"legendre\")"
     ]
    },
    {
     "cell_type": "raw",
     "metadata": {},
     "source": [
      "# compute an 'n'-point Gaussian integration rule of type 'method' on the the partition of elements 'unknots'\n",
      "#\n",
      "# input:\n",
      "#    unknots :: Vector{Float64} - vector of increasing numbers representing a univariate partition\n",
      "#    n       :: Int             - number of quadrature points\n",
      "#    method  :: String          - choose among the following methods: \"legendre\", \"lobatto\", \"chebyshev\", \"hermite\", \"jacobi\", \n",
      "#                                 \"radau\". If left blank then the standard is \"legendre\"\n",
      "# output:\n",
      "#    u       :: Matrix{Float64} - Matrix with quadrature points:  u[:,k] are the quadrature points in the kth element of       #                                 'unknots'\n",
      "#    w       :: Matrix{Float64} - Matrix with quadrature weights: w[:,k] are the quadrature weights in the kth element of       #                                 'unknots'"
     ]
    },
    {
     "cell_type": "code",
     "collapsed": false,
     "input": [
      "# compute Gauss-Legendre rule on [-1,1] - if method is left blank then the standard is \"legendre\"\n",
      "unknots = [0.0,1.0,2.0,3.0,4.0]\n",
      "u, w = gaussquadrule(unknots,3,\"legendre\")"
     ],
     "language": "python",
     "metadata": {},
     "outputs": [
      {
       "metadata": {},
       "output_type": "pyout",
       "prompt_number": 51,
       "text": [
        "(\n",
        "3x4 Array{Float64,2}:\n",
        " 0.112702  1.1127  2.1127  3.1127\n",
        " 0.5       1.5     2.5     3.5   \n",
        " 0.887298  1.8873  2.8873  3.8873,\n",
        "\n",
        "3x4 Array{Float64,2}:\n",
        " 0.277778  0.277778  0.277778  0.277778\n",
        " 0.444444  0.444444  0.444444  0.444444\n",
        " 0.277778  0.277778  0.277778  0.277778)"
       ]
      }
     ],
     "prompt_number": 51
    },
    {
     "cell_type": "code",
     "collapsed": false,
     "input": [
      "# compute the integral over function f(x)\n",
      "I = dot(w[:],f(u[:]))\n",
      "println(\"The integral of f(x) is: $I\")"
     ],
     "language": "python",
     "metadata": {},
     "outputs": [
      {
       "output_type": "stream",
       "stream": "stdout",
       "text": [
        "The integral of f(x) is: 213.06666666666666\n"
       ]
      }
     ],
     "prompt_number": 53
    },
    {
     "cell_type": "code",
     "collapsed": false,
     "input": [
      "# compute Gauss-Lobatto rule on [-1,1] - if method is left blank then the standard is \"legendre\"\n",
      "unknots = [0.0,1.0,2.0,3.0,4.0]\n",
      "u, w = gaussquadrule(unknots,4,\"lobatto\")"
     ],
     "language": "python",
     "metadata": {},
     "outputs": [
      {
       "metadata": {},
       "output_type": "pyout",
       "prompt_number": 57,
       "text": [
        "(\n",
        "4x4 Array{Float64,2}:\n",
        " 0.0       1.0      2.0      3.0    \n",
        " 0.276393  1.27639  2.27639  3.27639\n",
        " 0.723607  1.72361  2.72361  3.72361\n",
        " 1.0       2.0      3.0      4.0    ,\n",
        "\n",
        "4x4 Array{Float64,2}:\n",
        " 0.0833333  0.0833333  0.0833333  0.0833333\n",
        " 0.416667   0.416667   0.416667   0.416667 \n",
        " 0.416667   0.416667   0.416667   0.416667 \n",
        " 0.0833333  0.0833333  0.0833333  0.0833333)"
       ]
      }
     ],
     "prompt_number": 57
    },
    {
     "cell_type": "code",
     "collapsed": false,
     "input": [
      "# compute the integral over function f(x)\n",
      "I = dot(w[:],f(u[:]))\n",
      "println(\"The integral of f(x) is: $I\")"
     ],
     "language": "python",
     "metadata": {},
     "outputs": [
      {
       "output_type": "stream",
       "stream": "stdout",
       "text": [
        "The integral of f(x) is: 213.06666666666666\n"
       ]
      }
     ],
     "prompt_number": 58
    }
   ],
   "metadata": {}
  }
 ]
}