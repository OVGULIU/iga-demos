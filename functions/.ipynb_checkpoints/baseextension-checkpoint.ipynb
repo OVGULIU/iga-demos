{
 "metadata": {
  "language": "Julia",
  "name": "",
  "signature": "sha256:07838b57c43c1617470773e3e4d5855069433329e8854f808fe2910c686b4450"
 },
 "nbformat": 3,
 "nbformat_minor": 0,
 "worksheets": [
  {
   "cells": [
    {
     "cell_type": "heading",
     "level": 1,
     "metadata": {},
     "source": [
      "Examples functionality baseextension.jl"
     ]
    },
    {
     "cell_type": "raw",
     "metadata": {},
     "source": [
      "###############################################################################################################################\n",
      "######################## baseextension.jl features some functionality that ought to be in Julia.Base. #########################\n",
      "###############################################################################################################################\n",
      "#\n",
      "# Functions:\n",
      "#       +()             -  addition for tuples\n",
      "#       allcomb()       -  take all possible combinations of the elements of a set of n vectors\n",
      "#       ndgrid()        -  construct an n-dimensional cartesian grid using n input vectors with coordinates \n",
      "#                          (ndim-  generalization of meshgrid in MatLab)\n",
      "#       blockmat()      -  construct an abstract matrix of type T with N abstract matrices of type T on its diagonal \n",
      "#\n",
      "###############################################################################################################################\n",
      "#\n",
      "# File part of the Julia IsoGeometric Analysis toolbox\n",
      "# R.R.Hiemstra\n",
      "# 14-09-2015\n",
      "#\n",
      "###############################################################################################################################"
     ]
    },
    {
     "cell_type": "code",
     "collapsed": false,
     "input": [
      "# addpath library path\n",
      "push!(LOAD_PATH, \"/Users/rene/Box Sync/MultiPhysicsLab/Julia/functions\")\n",
      "\n",
      "# load library functions and modules\n",
      "require(\"baseextension.jl\")"
     ],
     "language": "python",
     "metadata": {},
     "outputs": [],
     "prompt_number": 1
    },
    {
     "cell_type": "heading",
     "level": 3,
     "metadata": {},
     "source": [
      "function +{N,T<:Real}(p::NTuple{N,T},q::NTuple{N,T})"
     ]
    },
    {
     "cell_type": "raw",
     "metadata": {},
     "source": [
      "# addition for tuples\n",
      "#\n",
      "# input:\n",
      "#    p :: Tuple{N,T}  - ntuple of real numbers of type T\n",
      "#    q :: Tuple{N,T}  - ntuple of real numbers of type T\n",
      "# output:\n",
      "#    r :: Tuple{N,T}  - ntuple of real numbers of type T"
     ]
    },
    {
     "cell_type": "code",
     "collapsed": false,
     "input": [
      "a = (1,2,3)\n",
      "b = (2,4,5)\n",
      "a+b"
     ],
     "language": "python",
     "metadata": {},
     "outputs": [
      {
       "metadata": {},
       "output_type": "pyout",
       "prompt_number": 2,
       "text": [
        "(3,6,8)"
       ]
      }
     ],
     "prompt_number": 2
    },
    {
     "cell_type": "code",
     "collapsed": false,
     "input": [
      "# you can also add a single number to a tuple\n",
      "a = (1,2,3)\n",
      "a + 2"
     ],
     "language": "python",
     "metadata": {},
     "outputs": [
      {
       "metadata": {},
       "output_type": "pyout",
       "prompt_number": 3,
       "text": [
        "(3,4,5)"
       ]
      }
     ],
     "prompt_number": 3
    },
    {
     "cell_type": "heading",
     "level": 3,
     "metadata": {},
     "source": [
      "function allcomb{T}(vs::AbstractVector{T}...)"
     ]
    },
    {
     "cell_type": "raw",
     "metadata": {},
     "source": [
      "# Take all possible combinations of the elements of a set of n vectors\n",
      "#\n",
      "# input:\n",
      "#    vs :: AbstractVector{T}...  -  set of n abstract vectors of type T\n",
      "# output:\n",
      "#    out :: AbstractMatrix{T}    -  one output of abstract matrix of type T which contains all possible combinations of the \n",
      "#                                   elements of the n input vectors"
     ]
    },
    {
     "cell_type": "code",
     "collapsed": false,
     "input": [
      "# exmple input and output\n",
      "a = [1,3,4]\n",
      "b = [1,2]\n",
      "c = [5,6,3,9]\n",
      "allcomb(a,b,c)"
     ],
     "language": "python",
     "metadata": {},
     "outputs": [
      {
       "metadata": {},
       "output_type": "pyout",
       "prompt_number": 4,
       "text": [
        "24x3 Array{Int64,2}:\n",
        " 1  1  5\n",
        " 3  1  5\n",
        " 4  1  5\n",
        " 1  2  5\n",
        " 3  2  5\n",
        " 4  2  5\n",
        " 1  1  6\n",
        " 3  1  6\n",
        " 4  1  6\n",
        " 1  2  6\n",
        " 3  2  6\n",
        " 4  2  6\n",
        " 1  1  3\n",
        " 3  1  3\n",
        " 4  1  3\n",
        " 1  2  3\n",
        " 3  2  3\n",
        " 4  2  3\n",
        " 1  1  9\n",
        " 3  1  9\n",
        " 4  1  9\n",
        " 1  2  9\n",
        " 3  2  9\n",
        " 4  2  9"
       ]
      }
     ],
     "prompt_number": 4
    },
    {
     "cell_type": "heading",
     "level": 3,
     "metadata": {},
     "source": [
      "function ndgrid{T}(vs::AbstractVector{T}...)"
     ]
    },
    {
     "cell_type": "raw",
     "metadata": {},
     "source": [
      "# Construct an n-dimensional cartesian grid using n input vectors with coordinates (ndim-generalization of meshgrid in MatLab)\n",
      "#\n",
      "# input:\n",
      "#    vs :: AbstractVector{T}...  -  set of n abstract vectors of type T representing univariate coordinates\n",
      "# output:\n",
      "#    out :: AbstractMatrix{T}...    -  set of n abstract matrices of type T representing an n-dimensional grid"
     ]
    },
    {
     "cell_type": "code",
     "collapsed": false,
     "input": [
      "# example input and output\n",
      "x = [0:2:10]\n",
      "y = [0:1:5]\n",
      "X, Y = ndgrid(x,y)"
     ],
     "language": "python",
     "metadata": {},
     "outputs": [
      {
       "metadata": {},
       "output_type": "pyout",
       "prompt_number": 5,
       "text": [
        "(\n",
        "6x6 Array{Int64,2}:\n",
        "  0   0   0   0   0   0\n",
        "  2   2   2   2   2   2\n",
        "  4   4   4   4   4   4\n",
        "  6   6   6   6   6   6\n",
        "  8   8   8   8   8   8\n",
        " 10  10  10  10  10  10,\n",
        "\n",
        "6x6 Array{Int64,2}:\n",
        " 0  1  2  3  4  5\n",
        " 0  1  2  3  4  5\n",
        " 0  1  2  3  4  5\n",
        " 0  1  2  3  4  5\n",
        " 0  1  2  3  4  5\n",
        " 0  1  2  3  4  5)"
       ]
      }
     ],
     "prompt_number": 5
    },
    {
     "cell_type": "heading",
     "level": 3,
     "metadata": {},
     "source": [
      "blockmat{T}(A::AbstractMatrix{T}...)"
     ]
    },
    {
     "cell_type": "raw",
     "metadata": {},
     "source": [
      "# Construct an abstract matrix of type T with N abstract matrices of type T on its diagonal\n",
      "#\n",
      "# input:\n",
      "#    A :: AbstractMatrix{T}...  -  set of n abstract matrices of type T\n",
      "# output:\n",
      "#    B :: AbstractMatrix{T}     -  abstract matrix of type T with the N abstract matrices on its diagonal"
     ]
    },
    {
     "cell_type": "code",
     "collapsed": false,
     "input": [
      "# example input and output\n",
      "A = fill(1,2,2)\n",
      "B = fill(2,3,2)\n",
      "C = fill(3,3,3)\n",
      "full(blockmat(A,B,C))"
     ],
     "language": "python",
     "metadata": {},
     "outputs": [
      {
       "metadata": {},
       "output_type": "pyout",
       "prompt_number": 6,
       "text": [
        "8x7 Array{Int64,2}:\n",
        " 1  1  0  0  0  0  0\n",
        " 1  1  0  0  0  0  0\n",
        " 0  0  2  2  0  0  0\n",
        " 0  0  2  2  0  0  0\n",
        " 0  0  2  2  0  0  0\n",
        " 0  0  0  0  3  3  3\n",
        " 0  0  0  0  3  3  3\n",
        " 0  0  0  0  3  3  3"
       ]
      }
     ],
     "prompt_number": 6
    }
   ],
   "metadata": {}
  }
 ]
}