{
 "cells": [
  {
   "cell_type": "markdown",
   "metadata": {},
   "source": [
    "# Classical linear elastostatics"
   ]
  },
  {
   "cell_type": "markdown",
   "metadata": {},
   "source": [
    "In this demo we discretize the classical linear elatostatics equations using the Galerkin method based on isogeometric function spaces. We follow the notation used in [1]. A more mathematical view on the finite element method can be found in [2]. Regarding isogeometric analysis we refer to the first paper [3] and the book [4].\n",
    "\n",
    "\n",
    "[1] Hughes, Thomas JR. The finite element method: linear static and dynamic finite element analysis. *Courier Corporation*, 2012.\n",
    "\n",
    "[2] Strang, Gilbert, and George J. Fix. An analysis of the finite element method. Vol. 212. *Englewood Cliffs, NJ: Prentice-Hall*, 1973.\n",
    "\n",
    "[3] Hughes, T.J., Cottrell, J.A. and Bazilevs, Y., 2005. Isogeometric analysis: CAD, finite elements, NURBS, exact geometry and mesh refinement. *Computer methods in applied mechanics and engineering*, 194(39), pp.4135-4195.\n",
    "\n",
    "[4] Cottrell, J. Austin, Thomas JR Hughes, and Yuri Bazilevs. Isogeometric analysis: toward integration of CAD and FEA. *John Wiley & Sons*, 2009."
   ]
  },
  {
   "cell_type": "markdown",
   "metadata": {},
   "source": [
    "## Strong form"
   ]
  },
  {
   "cell_type": "markdown",
   "metadata": {},
   "source": [
    "Let $n_{sd}(=2,3)$ denote the number of space dimensions. In the following, indices $i,j,k,l$ take on the values of $1,2,...,n_{sd}$ and the summation convention applies to repeated indices $i,j,k,l$ only. Let $\\Omega$ be an open set with piecewise smooth boundary $\\Gamma$. The present theory is vector valued (the unknown is the displacement vector). Consequently a generalization of the boundary conditions is necessitated. Assume $\\Gamma$ admits the decomposition,\n",
    "\n",
    "\\begin{align} \\text{for } i = 1,2,...,n_{sd} \\quad\n",
    "\\begin{cases}\n",
    "    \\Gamma = \\overline{ \\Gamma_{g_i} \\cup \\Gamma_{h_i}} \\\\\n",
    "    \\emptyset = \\Gamma_{g_i} \\cap \\Gamma_{h_i} \\\\\n",
    "\\end{cases}\n",
    "\\end{align}\n",
    "\n",
    "Furthermore, let $\\mathbf{n}$ denote the unit outward normal to $\\Gamma$ with components $n_i$, $i=1,2,...,n_{sd}$.\n",
    "\n",
    "Let $\\sigma_{ij}$ denote the components of the Cauchy stress tensor, let $u_i$ denote the components of displacement vector and let $f_i$ be the prescribed body force vector per unit of volume in the $i$th coordinate direction. The infinitesimal strain tensor, $\\epsilon_{ij}$, is defined to be the symmetric part of the displacement gradient,\n",
    "\\begin{align} \n",
    "    \\epsilon_{ij} &= u_{(i,j)} \\stackrel{def}{=} \\frac{u_{i,j} + u_{j,i}}{2}      & (1.1) \\\\\n",
    "\\end{align}\n",
    "\n",
    "The Cauchy stress tensor is given in terms of the strain tensor through the following constitutive equation, known as the generalized Hooke's law,\n",
    "\\begin{align} \n",
    "    \\sigma_{ij} &= c_{ijkl} \\; \\epsilon_{kl}      & (1.2) \\\\\n",
    "\\end{align}\n",
    "\n",
    "The elastic coefficients, $c_{ijkl}$, are known functions of $x$. Together they form the 4th order stiffness tensor  $\\mathbf{c}=[c_{ijkl}]$, which is assumed symmetric,\n",
    "\\begin{align} \n",
    "    c_{ijkl} &= c_{klij} & (\\text{Major symmetry}) \\\\\n",
    "    c_{ijkl} &= c_{jikl} & (\\text{1st minor symmetry}) \\\\\n",
    "    c_{ijkl} &= c_{ijlk} & (\\text{2nd minor symmetry})\n",
    "\\end{align}\n",
    "\n",
    "and positive definite\n",
    "\\begin{align} \n",
    "    \\psi_{ij} c_{ijkl} \\psi_{kl} &\\geq 0   \\quad \\text{for all symmetric $n_{sd} \\times n_{sd}$ matrices } \\psi_{ij} \\\\\n",
    "    \\psi_{ij} c_{ijkl} \\psi_{kl} &= 0 \\; \\implies \\; \\psi_{ij} = 0\n",
    "\\end{align}\n",
    "\n",
    "Formal statement of the strong form: \n",
    "\n",
    "(S) given $f_i \\; : \\; \\Omega \\mapsto \\mathbb{R}$, $g_i \\; : \\; \\Gamma_{g_i} \\mapsto \\mathbb{R}$ and $h_{i} \\; : \\; \\Gamma_{h_i} \\mapsto \\mathbb{R}$, find $u_i \\; : \\; \\overline{\\Omega} \\mapsto \\mathbb{R}$ such that\n",
    "\\begin{align} \n",
    "    \\sigma_{ij,j} &= f_i \\quad \\text{in } \\Omega      & (1.3)\\\\\n",
    "          u_i &= g_i \\quad \\text{on } \\Gamma_{g_i}    & (1.4)\\\\\n",
    "   \\sigma_{ij} \\; n_j &= h_i \\quad \\text{on } \\Gamma_{h_i} & (1.5)\n",
    "\\end{align}\n",
    "\n",
    "where $\\sigma_{ij}$ is given in terms of $u_i$ by (1.1-1.2). The boundary constraints $g_i$ and $h_i$ are the prescribed boundary displacement and traction, respectively."
   ]
  },
  {
   "cell_type": "markdown",
   "metadata": {},
   "source": [
    "## Weak form"
   ]
  },
  {
   "cell_type": "markdown",
   "metadata": {},
   "source": [
    "Let $\\mathcal{S} = \\left\\{ u \\; | \\; u_i \\in \\mathcal{S}_i \\right\\}$ denote the trial solution space and $\\mathcal{V} = \\left\\{ w \\; | \\; w_i \\in \\mathcal{V}_i \\right\\}$ the variation or test-space. These spaces contain real valued functions with certain regularity and essential boundary constraints build into their definition,\n",
    "\n",
    "\n",
    "\\begin{align}\n",
    "    \\mathcal{S}_i &:= \\left\\{ u_i \\in H^1(\\Omega) \\; | \\;  u_i  = g_i \\; \\text{on } \\Gamma_{g_i} \\right\\} & (2.1)\\\\\n",
    "    \\mathcal{V}_i &:= \\left\\{ w_i \\in H^1(\\Omega) \\; | \\;  w_i  = 0 \\; \\text{on } \\Gamma_{g_i} \\right\\} & (2.2)\n",
    "\\end{align}\n",
    "\n",
    "The weak formulation corresponding to equation (1.2-1.5) is given by,\n",
    "\n",
    "(W) given $f_i \\; : \\; \\Omega \\mapsto \\mathbb{R}$, $g_i \\; : \\; \\Gamma_{g_i} \\mapsto \\mathbb{R}$ and $h_i \\; : \\; \\Gamma_{h_i} \\mapsto \\mathbb{R}$, find $u \\in \\mathcal{S}$ such that,\n",
    "\n",
    "\\begin{align} \n",
    "    a(w,u) = (w,f) + (w,h)_{\\Gamma} \\quad \\text{for all } w \\in \\mathcal{V}   & & (2.3)\n",
    "\\end{align}\n",
    "\n",
    "where,\n",
    "\n",
    "\\begin{align} \n",
    "    & a(w,u) = - \\int_{\\Omega} w_{(i,j)} c_{ijkl} u_{(k,l)} d\\Omega, &\n",
    "    & (w,f) = \\int_{\\Omega} w_i f_i d\\Omega,& \n",
    "    & (w,h)_{\\Gamma} = \\sum_{i=1}^{n_{sd}}\\int_{\\Gamma_{h_i}} w_i h_i d \\Gamma & \n",
    "\\end{align}\n"
   ]
  },
  {
   "cell_type": "markdown",
   "metadata": {},
   "source": [
    "## Galerkin formulation"
   ]
  },
  {
   "cell_type": "markdown",
   "metadata": {},
   "source": [
    "Let $\\mathcal{S}^h$ and $\\mathcal{V}^h$ denote finite dimensional subspaces of $\\mathcal{S}$ and $\\mathcal{V}$, respectively. We assume that each member of $\\mathcal{V}_i^h$ vanishes on $\\Gamma_{g_i}$ and that each member of $\\mathcal{S}^h$ admits the representation,\n",
    "\n",
    "\n",
    "\\begin{align}\n",
    "    u^h &= v^h + g^h & (3.1)\n",
    "\\end{align}\n",
    "\n",
    "where $v^h \\in \\mathcal{V}^h$ and $g^h$ satisfies or approximates the boundary condition $u_i=g_i$ on $\\Gamma_{g_i}$ for $i=1,2,...,n_{sd}$.\n",
    "\n",
    "The Galerkin formulation reads,\n",
    "\n",
    "(G) given $f_i \\; : \\; \\Omega \\mapsto \\mathbb{R}$, $g_i \\; : \\; \\Gamma_{g_i} \\mapsto \\mathbb{R}$ and $h_i \\; : \\; \\Gamma_{h_i} \\mapsto \\mathbb{R}$, find $u^h = v^h +g^h \\in \\mathcal{S}^h$ such that\n",
    "\n",
    "\\begin{align} \n",
    "    a(w^h,v^h) &= (w^h,f) + (w^h,h)_{\\Gamma} - a(w^h,g^h)  \\quad \\text{for all } w^h \\in \\mathcal{V^h} & (3.2)\n",
    "\\end{align}"
   ]
  },
  {
   "cell_type": "markdown",
   "metadata": {},
   "source": [
    "## IsoGeometric Analysis"
   ]
  },
  {
   "cell_type": "markdown",
   "metadata": {},
   "source": [
    "Let $\\eta := \\left\\{1,2,...,n_{np}   \\right\\}$ be an index set with global node numbers, where $n_{np}$ is the number of nodal points. Among this set of indices, let $\\eta_{g_i} \\subset \\eta $ denote the global node numbers of nodes whose physical location is on $\\Gamma_{g_i}$ and whose value is determined by the boundary condition $u_i^h = g_i$. The complement, $\\eta - \\eta_{g_i}$, refers to the set of nodes at which $u_i^h$ needs to be determined. The explicit representation of $v_i^h$\n",
    "\n",
    "\\begin{align}\n",
    "    & w_i^h(x) = \\sum_{A \\in \\eta -\\eta_{g_i}} N_A(x) c_{iA}, &\n",
    "    & v_i^h(x) = \\sum_{A \\in \\eta -\\eta_{g_i}} N_A(x) d_{iA}, &\n",
    "    & g_i^h(x) = \\sum_{A \\in \\eta_{g_i}} N_A(x) g_{iA} &\n",
    "\\end{align}\n",
    "\n",
    "\n",
    "\n",
    "In this demo the set of functions, $N_A(x), \\; A \\in \\eta$, is given in terms of non-uniform rational B-splines (NURBS), which represent the facto standard in computer aided design (CAD). By employing the same basis function technology in finite element analysis as is already in use in the representation of geometry in CAD, we are able to \n",
    "* integrate geometry and analysis into one such that the tedious and labour intensive meshing process, that transforms a CAD-geometry into a finite element model can be eliminated. This is still a hot research topic since current CAD-technology is in many cases not directly analysis suitable.\n",
    "* represent the geometric model exactly from the coarsest level of discretization onwards\n",
    "* h- and p- and k-refine the model without altering the geometry\n",
    "* make use of high order smoothness in analysis\n",
    "\n",
    "The advantages of high order continuity in simulations has been shown in many different applications, most notably contact problems, higher order PDE's and hyperbolic problems such as elastodynamics and wave propagation, see [4]. Furthermore, in cases where the solution is the geometry, as in elasto-statics and elasto-dynamics, the use of isogeometric analyis goes without saying.\n",
    "\n",
    "Several different discretization techniques have been used in conjuction with isogeometric shape functions. Amongst others, collocation and Galerkin type of finite element methods. In this demo we focus on the Bubnov Galerkin method using NURBS shapefunctions applied to classical elastostatics."
   ]
  },
  {
   "cell_type": "code",
   "execution_count": null,
   "metadata": {
    "collapsed": true
   },
   "outputs": [],
   "source": []
  },
  {
   "cell_type": "markdown",
   "metadata": {},
   "source": [
    "## Initialization: loading external libraries"
   ]
  },
  {
   "cell_type": "code",
   "execution_count": 1,
   "metadata": {
    "collapsed": false
   },
   "outputs": [
    {
     "data": {
      "text/plain": [
       ":tk"
      ]
     },
     "execution_count": 1,
     "metadata": {},
     "output_type": "execute_result"
    }
   ],
   "source": [
    "# addpath library path\n",
    "push!(LOAD_PATH, \"/Users/rene/Box Sync/MultiPhysicsLab/Julia0.4.2/\")\n",
    "\n",
    "# using external packages\n",
    "using PyCall, PyPlot, Bsplines, Base.Cartesian\n",
    "\n",
    "# select type of graphical interactive window\n",
    "pygui(:tk)\n",
    "# pygui(true)"
   ]
  },
  {
   "cell_type": "markdown",
   "metadata": {},
   "source": [
    "## Classical linear heat conduction"
   ]
  },
  {
   "cell_type": "markdown",
   "metadata": {
    "collapsed": false
   },
   "source": []
  },
  {
   "cell_type": "code",
   "execution_count": null,
   "metadata": {
    "collapsed": false
   },
   "outputs": [],
   "source": []
  }
 ],
 "metadata": {
  "kernelspec": {
   "display_name": "Julia 0.4.2",
   "language": "julia",
   "name": "julia-0.4"
  },
  "language_info": {
   "file_extension": ".jl",
   "mimetype": "application/julia",
   "name": "julia",
   "version": "0.4.2"
  }
 },
 "nbformat": 4,
 "nbformat_minor": 0
}
