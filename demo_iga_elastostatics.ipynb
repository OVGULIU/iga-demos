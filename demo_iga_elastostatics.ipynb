{
 "cells": [
  {
   "cell_type": "markdown",
   "metadata": {},
   "source": [
    "# Classical linear elastostatics"
   ]
  },
  {
   "cell_type": "markdown",
   "metadata": {},
   "source": [
    "In this demo we discretize the classical linear elatostatics equations using the Galerkin method based on isogeometric function spaces. We follow the notation used in [1] and Bezier extraction [2]. A more mathematical view on the finite element method can be found in [3]. Regarding isogeometric analysis we refer to the first paper [4] and the book [5].\n",
    "\n",
    "\n",
    "[1] Hughes, Thomas JR. The finite element method: linear static and dynamic finite element analysis. *Courier Corporation*, 2012.\n",
    "\n",
    "\n",
    "[2] Borden, Michael J., et al. \"Isogeometric finite element data structures based on Bézier extraction of NURBS.\" International Journal for Numerical Methods in Engineering 87.1‐5 (2011): 15-47.\n",
    "\n",
    "[3] Strang, Gilbert, and George J. Fix. An analysis of the finite element method. Vol. 212. *Englewood Cliffs, NJ: Prentice-Hall*, 1973.\n",
    "\n",
    "[4] Hughes, T.J., Cottrell, J.A. and Bazilevs, Y., 2005. Isogeometric analysis: CAD, finite elements, NURBS, exact geometry and mesh refinement. *Computer methods in applied mechanics and engineering*, 194(39), pp.4135-4195.\n",
    "\n",
    "[5] Cottrell, J. Austin, Thomas JR Hughes, and Yuri Bazilevs. Isogeometric analysis: toward integration of CAD and FEA. *John Wiley & Sons*, 2009."
   ]
  },
  {
   "cell_type": "markdown",
   "metadata": {},
   "source": [
    "## Strong form"
   ]
  },
  {
   "cell_type": "markdown",
   "metadata": {},
   "source": [
    "Let $n_{sd}(=2,3)$ denote the number of space dimensions. In the following, indices $i,j,k,l$ take on the values of $1,2,...,n_{sd}$ and the summation convention applies to repeated indices $i,j,k,l$ only. Let $\\Omega$ be an open set with piecewise smooth boundary $\\Gamma$. The present theory is vector valued (the unknown is the displacement vector). Consequently a generalization of the boundary conditions is necessitated. Assume $\\Gamma$ admits the decomposition,\n",
    "\n",
    "\\begin{align} \\text{for } i = 1,2,...,n_{sd} \\quad\n",
    "\\begin{cases}\n",
    "    \\Gamma = \\overline{ \\Gamma_{g_i} \\cup \\Gamma_{h_i}} \\\\\n",
    "    \\emptyset = \\Gamma_{g_i} \\cap \\Gamma_{h_i} \\\\\n",
    "\\end{cases}\n",
    "\\end{align}\n",
    "\n",
    "Furthermore, let $\\mathbf{n}$ denote the unit outward normal to $\\Gamma$ with components $n_i$, $i=1,2,...,n_{sd}$.\n",
    "\n",
    "Let $\\sigma_{ij}$ denote the components of the Cauchy stress tensor, let $u_i$ denote the components of displacement vector and let $f_i$ be the prescribed body force vector per unit of volume in the $i$th coordinate direction. The infinitesimal strain tensor, $\\epsilon_{ij}$, is defined to be the symmetric part of the displacement gradient,\n",
    "\\begin{align} \n",
    "    \\epsilon_{ij} &= u_{(i,j)} \\stackrel{def}{=} \\frac{u_{i,j} + u_{j,i}}{2}      & (1.1) \\\\\n",
    "\\end{align}\n",
    "\n",
    "The Cauchy stress tensor is given in terms of the strain tensor through the following constitutive equation, known as the generalized Hooke's law,\n",
    "\\begin{align} \n",
    "    \\sigma_{ij} &= c_{ijkl} \\; \\epsilon_{kl}      & (1.2) \\\\\n",
    "\\end{align}\n",
    "\n",
    "The elastic coefficients, $c_{ijkl}$, are known functions of $x$. Together they form the 4th order stiffness tensor  $\\mathbf{c}=[c_{ijkl}]$, which is assumed symmetric,\n",
    "\\begin{align} \n",
    "    c_{ijkl} &= c_{klij} & (\\text{Major symmetry}) \\\\\n",
    "    c_{ijkl} &= c_{jikl} & (\\text{1st minor symmetry}) \\\\\n",
    "    c_{ijkl} &= c_{ijlk} & (\\text{2nd minor symmetry})\n",
    "\\end{align}\n",
    "\n",
    "and positive definite\n",
    "\\begin{align} \n",
    "    \\psi_{ij} c_{ijkl} \\psi_{kl} &\\geq 0   \\quad \\text{for all symmetric $n_{sd} \\times n_{sd}$ matrices } \\psi_{ij} \\\\\n",
    "    \\psi_{ij} c_{ijkl} \\psi_{kl} &= 0 \\; \\implies \\; \\psi_{ij} = 0\n",
    "\\end{align}\n",
    "\n",
    "Formal statement of the strong form: \n",
    "\n",
    "(S) given $f_i \\; : \\; \\Omega \\mapsto \\mathbb{R}$, $g_i \\; : \\; \\Gamma_{g_i} \\mapsto \\mathbb{R}$ and $h_{i} \\; : \\; \\Gamma_{h_i} \\mapsto \\mathbb{R}$, find $u_i \\; : \\; \\overline{\\Omega} \\mapsto \\mathbb{R}$ such that\n",
    "\\begin{align} \n",
    "    \\sigma_{ij,j} &= f_i \\quad \\text{in } \\Omega      & (1.3)\\\\\n",
    "          u_i &= g_i \\quad \\text{on } \\Gamma_{g_i}    & (1.4)\\\\\n",
    "   \\sigma_{ij} \\; n_j &= h_i \\quad \\text{on } \\Gamma_{h_i} & (1.5)\n",
    "\\end{align}\n",
    "\n",
    "where $\\sigma_{ij}$ is given in terms of $u_i$ by (1.1-1.2). The boundary constraints $g_i$ and $h_i$ are the prescribed boundary displacement and traction, respectively."
   ]
  },
  {
   "cell_type": "markdown",
   "metadata": {},
   "source": [
    "## Weak form"
   ]
  },
  {
   "cell_type": "markdown",
   "metadata": {},
   "source": [
    "Let $\\mathcal{S} = \\left\\{ u \\; | \\; u_i \\in \\mathcal{S}_i \\right\\}$ denote the trial solution space and $\\mathcal{V} = \\left\\{ w \\; | \\; w_i \\in \\mathcal{V}_i \\right\\}$ the variation or test-space. These spaces contain real valued functions with certain regularity and essential boundary constraints build into their definition,\n",
    "\n",
    "\n",
    "\\begin{align}\n",
    "    \\mathcal{S}_i &:= \\left\\{ u_i \\in H^1(\\Omega) \\; | \\;  u_i  = g_i \\; \\text{on } \\Gamma_{g_i} \\right\\} & (2.1)\\\\\n",
    "    \\mathcal{V}_i &:= \\left\\{ w_i \\in H^1(\\Omega) \\; | \\;  w_i  = 0 \\; \\text{on } \\Gamma_{g_i} \\right\\} & (2.2)\n",
    "\\end{align}\n",
    "\n",
    "The weak formulation corresponding to equation (1.2-1.5) is given by,\n",
    "\n",
    "(W) given $f_i \\; : \\; \\Omega \\mapsto \\mathbb{R}$, $g_i \\; : \\; \\Gamma_{g_i} \\mapsto \\mathbb{R}$ and $h_i \\; : \\; \\Gamma_{h_i} \\mapsto \\mathbb{R}$, find $u \\in \\mathcal{S}$ such that,\n",
    "\n",
    "\\begin{align} \n",
    "    a(w,u) = (w,f) + (w,h)_{\\Gamma} \\quad \\text{for all } w \\in \\mathcal{V}   & & (2.3)\n",
    "\\end{align}\n",
    "\n",
    "where,\n",
    "\n",
    "\\begin{align} \n",
    "    & a(w,u) = - \\int_{\\Omega} w_{(i,j)} c_{ijkl} u_{(k,l)} d\\Omega, &\n",
    "    & (w,f) = \\int_{\\Omega} w_i f_i d\\Omega,& \n",
    "    & (w,h)_{\\Gamma} = \\sum_{i=1}^{n_{sd}}\\int_{\\Gamma_{h_i}} w_i h_i d \\Gamma & \n",
    "\\end{align}\n"
   ]
  },
  {
   "cell_type": "markdown",
   "metadata": {},
   "source": [
    "## Galerkin formulation"
   ]
  },
  {
   "cell_type": "markdown",
   "metadata": {},
   "source": [
    "Let $\\mathcal{S}^h$ and $\\mathcal{V}^h$ denote finite dimensional subspaces of $\\mathcal{S}$ and $\\mathcal{V}$, respectively. We assume that each member of $\\mathcal{V}_i^h$ vanishes on $\\Gamma_{g_i}$ and that each member of $\\mathcal{S}^h$ admits the representation,\n",
    "\n",
    "\n",
    "\\begin{align}\n",
    "    u^h &= v^h + g^h & (3.1)\n",
    "\\end{align}\n",
    "\n",
    "where $v^h \\in \\mathcal{V}^h$ and $g^h$ satisfies or approximates the boundary condition $u_i=g_i$ on $\\Gamma_{g_i}$ for $i=1,2,...,n_{sd}$.\n",
    "\n",
    "The Galerkin formulation reads,\n",
    "\n",
    "(G) given $f_i \\; : \\; \\Omega \\mapsto \\mathbb{R}$, $g_i \\; : \\; \\Gamma_{g_i} \\mapsto \\mathbb{R}$ and $h_i \\; : \\; \\Gamma_{h_i} \\mapsto \\mathbb{R}$, find $u^h = v^h +g^h \\in \\mathcal{S}^h$ such that\n",
    "\n",
    "\\begin{align} \n",
    "    a(w^h,v^h) &= (w^h,f) + (w^h,h)_{\\Gamma} - a(w^h,g^h)  \\quad \\text{for all } w^h \\in \\mathcal{V^h} & (3.2)\n",
    "\\end{align}"
   ]
  },
  {
   "cell_type": "markdown",
   "metadata": {},
   "source": [
    "## IsoGeometric Analysis"
   ]
  },
  {
   "cell_type": "markdown",
   "metadata": {},
   "source": [
    "Let $\\eta := \\left\\{1,2,...,n_{np}   \\right\\}$ be an index set with global node numbers, where $n_{np}$ is the number of nodal points. Among this set of indices, let $\\eta_{g_i} \\subset \\eta $ denote the global node numbers of nodes whose physical location is on $\\Gamma_{g_i}$ and whose value is determined by the boundary condition $u_i^h = g_i$. The complement, $\\eta - \\eta_{g_i}$, refers to the set of nodes at which $u_i^h$ needs to be determined. The explicit representation of $v_i^h$\n",
    "\n",
    "\\begin{align}\n",
    "    & w_i^h(x) = \\sum_{A \\in \\eta -\\eta_{g_i}} N_A(x) c_{iA}, &\n",
    "    & v_i^h(x) = \\sum_{A \\in \\eta -\\eta_{g_i}} N_A(x) d_{iA}, &\n",
    "    & g_i^h(x) = \\sum_{A \\in \\eta_{g_i}} N_A(x) g_{iA} &\n",
    "\\end{align}\n",
    "\n",
    "\n",
    "\n",
    "In this demo the set of functions, $N_A(x), \\; A \\in \\eta$, is given in terms of non-uniform rational B-splines (NURBS), which represent the facto standard in computer aided design (CAD). By employing the same basis function technology in finite element analysis as is already in use in the representation of geometry in CAD, we are able to \n",
    "* integrate geometry and analysis into one such that the tedious and labour intensive meshing process, that transforms a CAD-geometry into a finite element model can be eliminated. This is still a hot research topic since current CAD-technology is in many cases not directly analysis suitable.\n",
    "* represent the geometric model exactly from the coarsest level of discretization onwards\n",
    "* h- and p- and k-refine the model without altering the geometry\n",
    "* make use of high order smoothness in analysis\n",
    "\n",
    "The advantages of high order continuity in simulations has been shown in many different applications, most notably contact problems, higher order PDE's and hyperbolic problems such as elastodynamics and wave propagation, see [4]. Furthermore, in cases where the solution is the geometry, as in elasto-statics and elasto-dynamics, the use of isogeometric analyis goes without saying.\n",
    "\n",
    "Several different discretization techniques have been used in conjuction with isogeometric shape functions. Amongst others, collocation and Galerkin type of finite element methods. In this demo we focus on the Bubnov Galerkin method using NURBS shapefunctions applied to classical elastostatics."
   ]
  },
  {
   "cell_type": "markdown",
   "metadata": {},
   "source": [
    "## Initialization: setting the path, install and loading external libraries, "
   ]
  },
  {
   "cell_type": "code",
   "execution_count": 1,
   "metadata": {
    "collapsed": false
   },
   "outputs": [
    {
     "data": {
      "text/plain": [
       "3-element Array{ByteString,1}:\n",
       " \"/Applications/Julia-0.4.2.app/Contents/Resources/julia/local/share/julia/site/v0.4\"\n",
       " \"/Applications/Julia-0.4.2.app/Contents/Resources/julia/share/julia/site/v0.4\"      \n",
       " \"/Users/rene/Box Sync/UT_AUSTIN/Year3/Nonlinear Finite Elements/iga-demos\"          "
      ]
     },
     "execution_count": 1,
     "metadata": {},
     "output_type": "execute_result"
    }
   ],
   "source": [
    "# addpath library path\n",
    "push!(LOAD_PATH, pwd())"
   ]
  },
  {
   "cell_type": "markdown",
   "metadata": {},
   "source": [
    "### Run the following command when running this code for the first time"
   ]
  },
  {
   "cell_type": "code",
   "execution_count": 2,
   "metadata": {
    "collapsed": false
   },
   "outputs": [],
   "source": [
    "Pkg.add(\"PyCall\"); Pkg.add(\"PyPlot\"); Pkg.add(\"FastGaussQuadrature\")"
   ]
  },
  {
   "cell_type": "markdown",
   "metadata": {},
   "source": [
    "### Load external libraries"
   ]
  },
  {
   "cell_type": "code",
   "execution_count": 2,
   "metadata": {
    "collapsed": true
   },
   "outputs": [],
   "source": [
    "using PyCall, PyPlot, FastGaussQuadrature, IGA"
   ]
  },
  {
   "cell_type": "markdown",
   "metadata": {},
   "source": [
    "## Shapefunction routines"
   ]
  },
  {
   "cell_type": "markdown",
   "metadata": {},
   "source": [
    "Below you find shape function routines for one- and two dimensional NURBS basisfunctions. The two-dimensional routines are required in the evaluation of domain integrals and in postprocessing of the results. The one-dimensional routines are required in evaluation of the domain integrals. These functions make use of Bernstein polynomials and their derivatives, called in the following piece of code, and Bezier extraction, see [5]."
   ]
  },
  {
   "cell_type": "code",
   "execution_count": 3,
   "metadata": {
    "collapsed": false
   },
   "outputs": [
    {
     "data": {
      "text/plain": [
       "dersbezierbasisfuns (generic function with 2 methods)"
      ]
     },
     "execution_count": 3,
     "metadata": {},
     "output_type": "execute_result"
    }
   ],
   "source": [
    "# bernstein basis functions on [-1,1] and their derivatives\n",
    "dersbezierbasisfuns(p::Int, u::Float64, nout::Int) = dersbsplinebasisfuns(p, buildvector([-1.0;1.0],[p+1;p+1]), p+1, u, nout)'\n",
    "\n",
    "# bernstein basis functions on [-1,1] and their derivatives at a set of points u\n",
    "function dersbezierbasisfuns(p::Int, u::Vector{Float64}, nout::Int)\n",
    "    ϕ = zeros(p+1,length(u),nout) \n",
    "    for k in 1:length(u)\n",
    "        ϕ[:,k,:] = dersbezierbasisfuns(p, u[k], nout)\n",
    "    end\n",
    "    return ϕ\n",
    "end"
   ]
  },
  {
   "cell_type": "markdown",
   "metadata": {},
   "source": [
    "Given a set of Bernstein polynomials, $\\phi = \\left\\{ϕ_i, \\; i=1,2,... \\right\\}$, and their derivatives, $d\\phi = \\left\\{dϕ_i, \\; i=1,2,... \\right\\}$ on $[-1,1]$, we can use Bezier extraction to contruct the corresponding B-spline basis functions and their derivatives. \n",
    "\n",
    "Let $C$ denote the Bezier extraction operator on element $k$, then\n",
    "\\begin{align}\n",
    "        &B = C^T \\phi & &\\text{and }& &dB = C^T d\\phi&\n",
    "\\end{align}\n",
    "\n",
    "are the one dimensional B-spline basis functions $B = \\left\\{B_i, \\; i=1,2,... \\right\\}$ and its derivatives $dB = \\left\\{dB_i, \\; i=1,2,... \\right\\}$ on that element\n",
    "\n",
    "The kronecker product can be used to compute multivariate B-spline representattions, if required. Let $B^w_{a}(x) = w_a B_a(x)$, where $w_a$ denotes the corresponding NURBS weight, and the weight function be given as $W = \\sum_a B^w_{a}$. Then the NURBS basis functions and their derivatives are given as,\n",
    "\\begin{align}\n",
    "    R_a &= \\frac{B^w_a}{W} \\\\\n",
    "    \\frac{\\partial R_a}{\\partial x_i} &= \\frac{1}{W^2} \\left( W \\cdot  \\frac{\\partial B^w_a}{\\partial x_i} - \\frac{\\partial W}{\\partial x_i} \\cdot B^w_a   \\right)\n",
    "\\end{align}\n",
    "\n",
    "for $a = 1,2,...,n_{en}$, where $n_{en}=(p+1)(q+1)$ is the number of element nodes.\n",
    "\n",
    "The following piece of code computes NURBS basisfunctions $R = \\left\\{R_a(x), \\; a=1,...,n_{en} \\right\\}$ and its derivatives $\\nabla R = \\left\\{\\nabla R_a(x), \\; a=1,...,n_{en} \\right\\}$."
   ]
  },
  {
   "cell_type": "code",
   "execution_count": 4,
   "metadata": {
    "collapsed": false
   },
   "outputs": [
    {
     "data": {
      "text/plain": [
       "dersbezierbasisfuns (generic function with 6 methods)"
      ]
     },
     "execution_count": 4,
     "metadata": {},
     "output_type": "execute_result"
    }
   ],
   "source": [
    "# Compute 1D shape function and derivatives in a single point\n",
    "function dersbezierbasisfuns(S::BezierPatch{1}, ϕ::Vector{Float64}, dϕ::Vector{Float64})\n",
    "    \n",
    "    # initialize\n",
    "    C = S.dec\n",
    "    W = S.wpts\n",
    "    P = S.cpts\n",
    "    \n",
    "    # NURBS are B-splines in projective three-space\n",
    "    Bʷ  = broadcast(*, W, C[1]'* ϕ)\n",
    "    ∇Bʷ = broadcast(*, W, C[1]'* dϕ)\n",
    "    \n",
    "    # compute weightfunction and derivative\n",
    "    w  = sum(Bʷ)\n",
    "    ∇w = sum(∇Bʷ)\n",
    "    \n",
    "    # compute NURBS basisfunction and derivative\n",
    "    R  = Bʷ / w\n",
    "    ∇R = (∇Bʷ * w - Bʷ * ∇w) / w^2\n",
    "    \n",
    "    # return quadtities in physical space\n",
    "    return R, ∇R\n",
    "end\n",
    "\n",
    "# Compute 1D shape function and derivatives in an array of points\n",
    "function dersbezierbasisfuns(S::BezierPatch{1}, ϕ::Matrix{Float64}, dϕ::Matrix{Float64})\n",
    "    R, ∇R = zeros(ϕ), zeros(dϕ)\n",
    "    for k in 1:size(R,2)\n",
    "        R[:,k], ∇R[:,k] = dersbezierbasisfuns(S, ϕ[:,k], dϕ[:,k]) \n",
    "    end\n",
    "    return R, ∇R\n",
    "end\n",
    "\n",
    "# Compute 2D shape function, derivatives and determinant in a single point\n",
    "function dersbezierbasisfuns(S::BezierPatch{2}, ϕ::NTuple{2,Vector{Float64}}, dϕ::NTuple{2,Vector{Float64}})\n",
    "    \n",
    "    # initialize\n",
    "    C = S.dec\n",
    "    W = S.wpts\n",
    "    P = S.cpts\n",
    "    \n",
    "    # compute B-spline basis functions\n",
    "    ϕ  = ntuple(k-> C[k]'* ϕ[k], 2)\n",
    "    dϕ = ntuple(k-> C[k]'*dϕ[k], 2)\n",
    "    \n",
    "    # NURBS are B-splines in projective 3-space\n",
    "    Bʷ  = broadcast(*, W,  kron(ϕ[2], ϕ[1]))\n",
    "    ∇Bʷ = broadcast(*, W, [kron(ϕ[2], dϕ[1]) kron(dϕ[2], ϕ[1])])\n",
    "    \n",
    "    # compute weightfunction\n",
    "    w  = sum(Bʷ)\n",
    "    ∇w = sum(∇Bʷ, 1)\n",
    "    \n",
    "    # compute NURBS functions and derivatives\n",
    "    R  = Bʷ / w\n",
    "    ∇R = (∇Bʷ * w - Bʷ * ∇w) / w^2\n",
    "    \n",
    "    # return quadtities in physical space\n",
    "    return R, ∇R\n",
    "end\n",
    "\n",
    "# Compute 2D shape function and derivatives in an array of points\n",
    "function dersbezierbasisfuns(S::BezierPatch{2}, ϕ::NTuple{2,Matrix{Float64}}, dϕ::NTuple{2,Matrix{Float64}})\n",
    "    n = prod([size(ϕ[k],1) for k in 1:2]); m = ntuple(k -> size(ϕ[k],2), 2)\n",
    "    R, ∇R = zeros(n,prod(m)), zeros(n,prod(m),2)\n",
    "    i = 1\n",
    "    for k in 1:m[2]\n",
    "        for l in 1:m[1]\n",
    "            R[:,i], ∇R[:,i,:] = dersbezierbasisfuns(S, (ϕ[1][:,k], ϕ[2][:,l]), (dϕ[1][:,k], dϕ[2][:,l])) \n",
    "            i+=1\n",
    "        end\n",
    "    end\n",
    "    return R, ∇R\n",
    "end"
   ]
  },
  {
   "cell_type": "markdown",
   "metadata": {},
   "source": [
    "## Main assembly routine"
   ]
  },
  {
   "cell_type": "markdown",
   "metadata": {},
   "source": [
    "Below follows the main assembly routine as carefully described in [1]. Input is a NURBS geometry with corresponding IEN and ID arrays, and a set of functions denoting material properties, righthandside forcing, boundary displacements and tractions."
   ]
  },
  {
   "cell_type": "code",
   "execution_count": 5,
   "metadata": {
    "collapsed": false
   },
   "outputs": [
    {
     "data": {
      "text/plain": [
       "assembly (generic function with 1 method)"
      ]
     },
     "execution_count": 5,
     "metadata": {},
     "output_type": "execute_result"
    }
   ],
   "source": [
    "typealias Forcing  Function\n",
    "typealias Traction Function\n",
    "typealias BoundaryDisplacement Function\n",
    "typealias Material Function\n",
    "\n",
    "function assembly(S::NURBS, D::Material, f::Forcing, g::BoundaryDisplacement, h::Traction)\n",
    "\n",
    "    #########################  Initialize #############################\n",
    "    p     = S.deg                            # polynomial degree\n",
    "    nsd   = nsdim(S)                         # number of space dimensions\n",
    "    ndofs = dimsplinespace(S)                # dimension of the spline space\n",
    "    dims  = nbezierpatches(S)                # number of elements in each direction\n",
    "    \n",
    "    IEN   = S.ien                            # set IEN-array \n",
    "    ID    = S.id                             # set ID-array\n",
    "    \n",
    "    neq   = maximum(ID)                      # number of equations\n",
    "    K     = spzeros(neq,neq)                 # allocate space for the stiffness matrix\n",
    "    F     = zeros(neq)                       # allocate space for the righthandside forcing\n",
    "\n",
    "    ########################  Precompute data #########################\n",
    "\n",
    "    # precompute Gauss-Legendre nodes and weights\n",
    "    qr = ntuple(k -> QuadRule(p[k]+1,\"legendre\"), nsd)\n",
    "\n",
    "    # pre-compute univariate Bernstein polynomials and their derivatives\n",
    "    ϕ = ntuple(k -> dersbezierbasisfuns(p[k], qr[k].points, 2), nsd)\n",
    "\n",
    "    ########################  Assembly loop over elements #########################\n",
    "    \n",
    "    # integration over domain Ω\n",
    "    for e in 1:size(IEN,2)\n",
    "\n",
    "        # initialize\n",
    "        A = IEN[:,e]                       # global node numbers\n",
    "        P = ID[:,A]                          # global equation numbers\n",
    "        i,j = ind2sub(dims,e)                # element subscripts\n",
    "\n",
    "        # construct Bezier Patch\n",
    "        Sb = BezierPatch(tuple(p...), S.cpts[A,:], S.wpts[A], (S.dec[1][:,:,i], S.dec[2][:,:,j]))\n",
    "\n",
    "        # compute element contribution of the stiffness matrix and the forcing vector\n",
    "        Kₑ, Fₑ = element_stiffness_and_forcing(Sb, ϕ, qr, D, f)\n",
    "\n",
    "        # add contributions of element stiffness matrix and right hand side forcing\n",
    "        I = P.!=0                  # index internal displacements\n",
    "        K[P[I],P[I]] += Kₑ[I[:],I[:]]\n",
    "        F[P[I]]      += Fₑ[I[:]]\n",
    "        \n",
    "        # subtract Dirichlet boundary displacements\n",
    "        for i in 1:2\n",
    "            for a in 1:size(P,2)\n",
    "                if P[i,a]==0\n",
    "                    F[P[I]] -= Kₑ[I,a] * g(vec(S.cpts[A[a],:]))[i]\n",
    "                end\n",
    "            end\n",
    "        end\n",
    "    end\n",
    "    \n",
    "    # integration over boundary ∂Ω\n",
    "    for dir = 1:2\n",
    "        I = 1:nsd.!=dir\n",
    "        for k in 1:2\n",
    "            C = ∂(S,dir,k) # boundary k, direction dir, of S\n",
    "            for e in 1:size(C.ien,2)\n",
    "\n",
    "                # initialize\n",
    "                A = C.ien[:,e]                       # global node numbers\n",
    "                P = ID[:,A][:]                       # global equation numbers\n",
    "                J = P.!=0                            # dofs with Neumann data\n",
    "\n",
    "                # construct Bezier Patch\n",
    "                Cb = BezierPatch(tuple(C.deg...), S.cpts[A,:], S.wpts[A], (C.dec[1][:,:,e],))\n",
    "\n",
    "                # compute element contribution of the stiffness matrix and the forcing vector\n",
    "                F[P[J]] += neumann_boundary_condition(Cb, ϕ[I], qr[I], h)[J]\n",
    "                \n",
    "            end\n",
    "        end\n",
    "    end\n",
    "    \n",
    "    return K, F\n",
    "end"
   ]
  },
  {
   "cell_type": "markdown",
   "metadata": {},
   "source": [
    "Now follows the assembly of the element stiffness matrix $K_e$ and right hand side forcing $F_e$. This function is called in the main assembly routine. Input is a BezierPatch that stores amongst others the Bezier decomposition operator, a set of Bernstein polynomials, a quadrature rule and functions denoting material properties and righthandside forcing.\n",
    "\n",
    "We closely followed the exposition in [1] and use the isoparametric finite element paradigm. Once a set of two-dimensional NURBS basis functions and derivatives have been computed at a quadrature node, using the shapefunction routine, they are pushed to the physical domain. Consider,\n",
    "\\begin{align}\n",
    "\\left[ \\begin{matrix}\n",
    "    \\frac{\\partial}{\\partial x_1}  \\\\\n",
    "    \\frac{\\partial }{\\partial x_2} \\\\\n",
    "\\end{matrix} \\right] \n",
    " = \\underbrace{\n",
    "\\left[ \\begin{matrix}\n",
    "    \\frac{\\partial y_1}{\\partial x_1} & \\frac{\\partial y_2}{\\partial x_1} \\\\\n",
    "     \\frac{\\partial y_1}{\\partial x_2} & \\frac{\\partial y_2}{\\partial x_2} \\\\\n",
    "\\end{matrix} \\right] }_{\\mathbf{J}}\n",
    "\\left[ \\begin{matrix}\n",
    "    \\frac{\\partial}{\\partial y_1}  \\\\\n",
    "    \\frac{\\partial }{\\partial y_2} \\\\\n",
    "\\end{matrix} \\right] \n",
    "\\end{align}\n",
    "where $(x_1,x_2)$ denote the parametric coordinates and $(y_1,y_2)$ the physical ones.\n",
    "\n",
    "Let $\\mathbf{L} = \\mathbf{J}^{-1}$. The derivatives of the NURBS basis functions in phyiscal space are given by,\n",
    "\\begin{align}\n",
    "    N_{a,i} = \\sum_{j=1}^2 \\mathbf{L}_{ij} \\frac{\\partial R_a}{\\partial x_j} \n",
    "\\end{align}\n",
    "\n",
    "As explained in [1], the strain components are then computed as,\n",
    "\\begin{align}\n",
    "\\mathbf{B}_a = \n",
    "\\left[ \\begin{matrix}\n",
    "    N_{a,1} & 0.0 \\\\\n",
    "    0.0 & N_{a,2} \\\\\n",
    "    N_{a,2} & N_{a,1} \\\\\n",
    "\\end{matrix} \\right]\n",
    "\\end{align}\n",
    "\n",
    "Finally, the element stiffness matrix is computed as follows,\n",
    "\\begin{align}\n",
    "    \\mathbf{K}^e_{ab} = \\int_{\\Omega_e} \\mathbf{B}^T_a \\mathbf{D} \\mathbf{B}_b \\; d\\Omega\n",
    "\\end{align}\n",
    "\n",
    "In practice we use Gauss-Legendre quadrature to evaluate the domain integral above. This is easily done by considering the integrand shown above, the quadrature weights and the determinant of the Jacobian matrix $\\mathbf{J}$."
   ]
  },
  {
   "cell_type": "code",
   "execution_count": 6,
   "metadata": {
    "collapsed": false
   },
   "outputs": [
    {
     "data": {
      "text/plain": [
       "element_stiffness_and_forcing (generic function with 1 method)"
      ]
     },
     "execution_count": 6,
     "metadata": {},
     "output_type": "execute_result"
    }
   ],
   "source": [
    "# computation of element stiffness and forcing\n",
    "function element_stiffness_and_forcing(Sb::BezierPatch{2}, ϕ::NTuple{2,Array{Float64,3}}, qr::NTuple{2,QuadRule}, D::Material, f::Forcing)\n",
    "    \n",
    "    # initialize\n",
    "    nen = prod(Sb.deg+1)                 # number of element nodes\n",
    "    ned = 2                              # number of element dofs per node\n",
    "    Kₑ = zeros(nen*ned, nen*ned)         # allocate space for element stiffness matrix\n",
    "    Fₑ = zeros(nen*ned)                  # allocate space for element forcing vector\n",
    "\n",
    "    # loop over quadrature points\n",
    "    for j in 1:dim(qr[2])\n",
    "        for i in 1:dim(qr[1])\n",
    "\n",
    "            # shape function routine\n",
    "            R, ∇R = dersbezierbasisfuns(Sb,(ϕ[1][:,i,1],ϕ[2][:,j,1]), (ϕ[1][:,i,2],ϕ[2][:,j,2]))\n",
    "\n",
    "            # compute geometrical properties\n",
    "            J = ∇R' * Sb.cpts                                # Jacobian \n",
    "            x = vec(R'  * Sb.cpts)                           # quadrature point in physical space\n",
    "            α = qr[1].weights[i]*qr[2].weights[j]*det(J)     # quadrature weight in physical space\n",
    "\n",
    "            # compute strain components\n",
    "            N = (inv(J) * ∇R')'\n",
    "            B = Matrix{Float64}[[N[a,1]  0.0;\n",
    "                                 0.0    N[a,2];\n",
    "                                 N[a,2] N[a,1]] for a in 1:nen]\n",
    "\n",
    "            # compute element stiffness contribution of quadrature point i,j\n",
    "            for a in 1:nen\n",
    "                p = ned*(a-1)+(1:ned)\n",
    "                for b in a:nen\n",
    "                    q = ned*(b-1)+(1:ned)\n",
    "                    Kₑ[p,q] += (B[a]' * D(x) * B[b]) * α\n",
    "                end\n",
    "            end\n",
    "            \n",
    "            # compute element forcing contribution of quadrature point i,j\n",
    "            Fₑ += ((f(x) * α) * R')[:]\n",
    "        end\n",
    "    end\n",
    "\n",
    "    # Use symmetry to determine the remainder of the element stiffness matrix\n",
    "    for a in 1:nen\n",
    "        p = ned*(a-1)+(1:ned)\n",
    "        for b in a+1:nen\n",
    "            q = ned*(b-1)+(1:ned)\n",
    "            Kₑ[q,p] = Kₑ[p,q]'\n",
    "        end\n",
    "    end\n",
    "    return Kₑ, Fₑ\n",
    "end"
   ]
  },
  {
   "cell_type": "markdown",
   "metadata": {},
   "source": [
    "In the following piece of code we evaluate the boundary integrals taking into account traction Neumann boundary data prescribed by function $h(x)$. Input into this routine is an object BezierPatch that stores amongst others the Bezier decomposition operator, Bernstein basis functions, a quadrature rule and a function prescribing the traction boundary condition. "
   ]
  },
  {
   "cell_type": "code",
   "execution_count": 7,
   "metadata": {
    "collapsed": false
   },
   "outputs": [
    {
     "data": {
      "text/plain": [
       "neumann_boundary_condition (generic function with 1 method)"
      ]
     },
     "execution_count": 7,
     "metadata": {},
     "output_type": "execute_result"
    }
   ],
   "source": [
    "# computation of element tractions\n",
    "function neumann_boundary_condition(Cb::BezierPatch{1}, ϕ::Tuple{Array{Float64,3}}, qr::Tuple{QuadRule}, h::Function)\n",
    "    \n",
    "    # initialize\n",
    "    nen = prod(Cb.deg+1)                 # number of element nodes\n",
    "    ned = 2                              # number of element dofs per node\n",
    "    Fₑ = zeros(nen*ned)                  # allocate space for element forcing vector\n",
    "    \n",
    "    # loop over quadrature points\n",
    "    for i in 1:dim(qr[1])\n",
    "\n",
    "        # shape function routine\n",
    "        R, ∇R = dersbezierbasisfuns(Cb, ϕ[1][:,i,1], ϕ[1][:,i,2])\n",
    "\n",
    "        # compute geometrical properties\n",
    "        t = vec(∇R' * Cb.cpts)                           # Tangent vector\n",
    "        x = vec(R'  * Cb.cpts)                           # quadrature point in physical space\n",
    "        α = qr[1].weights[i]*norm(t)                     # quadrature weight in physical space\n",
    "\n",
    "        # compute element forcing contribution of quadrature point i,j\n",
    "        Fₑ += ((h(x) * α) * R')[:]\n",
    "    end\n",
    "   \n",
    "    return Fₑ\n",
    "end"
   ]
  },
  {
   "cell_type": "markdown",
   "metadata": {},
   "source": [
    "## Postprocessing"
   ]
  },
  {
   "cell_type": "markdown",
   "metadata": {},
   "source": [
    "After the solution has been obtained we wish to plot the deformed configuration and the contourlevels of stress. In the following function we provide the functionality to plot 2D NURBS files. Input is the NURBS and the granularity of plotting."
   ]
  },
  {
   "cell_type": "code",
   "execution_count": 8,
   "metadata": {
    "collapsed": false
   },
   "outputs": [
    {
     "data": {
      "text/plain": [
       "plot (generic function with 3 methods)"
      ]
     },
     "execution_count": 8,
     "metadata": {},
     "output_type": "execute_result"
    }
   ],
   "source": [
    "import PyPlot.plot\n",
    "\n",
    "# plot the NURBS geometry\n",
    "function plot(S::NURBS, gran=(3,3))\n",
    "    # initialize\n",
    "    if isempty(S.ien)==true\n",
    "        S.ien = ienarray(S)\n",
    "    end\n",
    "    if isempty(S.dec[1])==true\n",
    "        S.dec = bezierdecompoperator(S)\n",
    "    end\n",
    "    dims = ntuple(i -> size(S.dec[i],3), 2)\n",
    "    u    = ntuple(i -> linearspace(-1.0,1.0,gran[i]), 2)\n",
    "    ϕ    = ntuple(i -> dersbezierbasisfuns(S.deg[i], u[i], 2), 2)\n",
    "    \n",
    "    # loop over elements\n",
    "    for e in 1:prod(dims)\n",
    "        i,j = ind2sub(dims,e)          # element subscripts\n",
    "        A   = S.ien[:,e]                 # global node numbers\n",
    "        \n",
    "        # construct Bezier Patch\n",
    "        Sb  = BezierPatch(tuple(S.deg...), S.cpts[A,:], S.wpts[A], (S.dec[1][:,:,i], S.dec[2][:,:,j]))\n",
    "        \n",
    "        # compute 2-dimensional rational basis functions\n",
    "        R, ∇R = dersbezierbasisfuns(Sb, (ϕ[1][:,:,1], ϕ[2][:,:,1]), (ϕ[1][:,:,2], ϕ[2][:,:,2]))\n",
    "        \n",
    "        # plot surface\n",
    "        X = ntuple(i -> reshape(R' * Sb.cpts[:,i], gran), size(Sb.cpts,2))\n",
    "        contourf(X[1], X[2], zeros(X[1]))\n",
    "        \n",
    "        # plot boundary\n",
    "        plot(vec(X[1][:,1]),   vec(X[2][:,1]),\"k\")\n",
    "        plot(vec(X[1][:,end]), vec(X[2][:,end]),\"k\")\n",
    "        plot(vec(X[1][1,:]),   vec(X[2][1,:]),\"k\")\n",
    "        plot(vec(X[1][end,:]), vec(X[2][end,:]),\"k\")\n",
    "    end\n",
    "end "
   ]
  },
  {
   "cell_type": "markdown",
   "metadata": {},
   "source": [
    "The following function can be used to plot the contourlevels os stress. Input is the NURBS geometry file, the NURBS analysis file with as controlpoints the obtained displacemenet variables, the component of stress, the preferred contourlevels and the granularity of plotting."
   ]
  },
  {
   "cell_type": "code",
   "execution_count": 9,
   "metadata": {
    "collapsed": false
   },
   "outputs": [
    {
     "data": {
      "text/plain": [
       "plot_stress_contours (generic function with 2 methods)"
      ]
     },
     "execution_count": 9,
     "metadata": {},
     "output_type": "execute_result"
    }
   ],
   "source": [
    "# plot the contourlevels of stress\n",
    "function plot_stress_contours(G::NURBS{2}, S::NURBS{2}, ii::Int, levels::Vector{Float64}, gran=(4,4))\n",
    "\n",
    "    # initialize\n",
    "    p   = G.deg\n",
    "    nen = prod(p+1)\n",
    "    dims = ntuple(i -> size(S.dec[i],3), 2)\n",
    "\n",
    "    # sample points\n",
    "    u = ntuple(k -> linearspace(-1.0,1.0,gran[k]), 2)\n",
    "\n",
    "    # pre-compute univariate Bernstein polynomials and their derivatives\n",
    "    ϕ = ntuple(k -> dersbezierbasisfuns(p[k], u[k], 2), 2)\n",
    "\n",
    "    # loop over elements\n",
    "    for e in 1:size(S.ien,2)\n",
    "        i,j = ind2sub(dims,e)          # element subscripts\n",
    "        A   = G.ien[:,e]               # global node numbers\n",
    "\n",
    "        # construct Bezier Patch\n",
    "        Sb = BezierPatch(tuple(p...), G.cpts[A,:], G.wpts[A], (G.dec[1][:,:,i], G.dec[2][:,:,j]))\n",
    "\n",
    "        # compute the stress at the sample points\n",
    "        σ = zeros(gran[1],gran[2],3)\n",
    "        X = zeros(gran); Y = zeros(gran)\n",
    "        for j in 1:gran[2]\n",
    "            for i in 1:gran[1]\n",
    "\n",
    "                # shape function routine\n",
    "                R, ∇R = dersbezierbasisfuns(Sb,(ϕ[1][:,i,1],ϕ[2][:,j,1]), (ϕ[1][:,i,2],ϕ[2][:,j,2]))\n",
    "\n",
    "                # compute geometrical properties\n",
    "                J = ∇R' * Sb.cpts                                # Jacobian \n",
    "                x = vec(R'  * Sb.cpts)                           # quadrature point in physical space\n",
    "\n",
    "                if det(J)==0.0\n",
    "                    J = eye(2)\n",
    "                end\n",
    "\n",
    "                # compute strain basis functions\n",
    "                N = (inv(J) * ∇R')'\n",
    "                B = Matrix{Float64}[[N[a,1]  0.0;\n",
    "                                     0.0    N[a,2];\n",
    "                                     N[a,2] N[a,1]] for a in 1:nen]\n",
    "\n",
    "                # compute the stress in point x\n",
    "                for a in 1:nen\n",
    "                    save = D(x)*B[a]*S.cpts[A[a],:]'\n",
    "                    for k in 1:3\n",
    "                        σ[i,j,k] += save[k]\n",
    "                    end\n",
    "                end\n",
    "\n",
    "                # save the coordinates\n",
    "                X[i,j] = x[1]; Y[i,j] = x[2]\n",
    "            end\n",
    "        end\n",
    "\n",
    "        cp = contourf(X, Y, σ[:,:,ii],levels)\n",
    "        if e==1\n",
    "            colorbar(cp)\n",
    "        end\n",
    "    end\n",
    "end"
   ]
  },
  {
   "cell_type": "markdown",
   "metadata": {},
   "source": [
    "# EXAMPLE 1: Patch Test"
   ]
  },
  {
   "cell_type": "markdown",
   "metadata": {},
   "source": [
    "In the following example we consider an engineering example of the patch test as described in for example [1] and [2]. \n",
    "\n",
    "First we construct the geometry, a rectangular domain descretized using B-splines. Then we apply zero displacement in x-direction at the left boundary and a uniform traction $T$ in x-direction on the right boundary. The solution should have a constant stress field, $\\sigma_{1} = T$, $\\sigma_{2} = \\sigma_{3} = 0$."
   ]
  },
  {
   "cell_type": "code",
   "execution_count": 17,
   "metadata": {
    "collapsed": false
   },
   "outputs": [
    {
     "data": {
      "image/png": "[encoded data removed]",
      "text/plain": [
       "PyPlot.Figure(PyObject <matplotlib.figure.Figure object at 0x31e6e2950>)"
      ]
     },
     "metadata": {},
     "output_type": "display_data"
    },
    {
     "data": {
      "text/plain": [
       "1-element Array{Any,1}:\n",
       " PyObject <matplotlib.lines.Line2D object at 0x31e107550>"
      ]
     },
     "execution_count": 17,
     "metadata": {},
     "output_type": "execute_result"
    }
   ],
   "source": [
    "# particulars\n",
    "p   = [1,1]                                                                  # polybnomial degree\n",
    "kts = Vector{Float64}[buildvector([0.0;1.0], [p[k]+1;p[k]+1]) for k in 1:2]  # knot vector\n",
    "\n",
    "# control points and weights\n",
    "X = 2.0*[-1.0  1.0 -1.0 1.0];\n",
    "Y = 0.5*[-1.0 -1.0  1.0 1.0];\n",
    "W = ones(4)\n",
    "\n",
    "# construct patch\n",
    "S = NURBS(p,kts,[X[:] Y[:]],W[:])\n",
    "degreeelevate!(S,2)                  # degree elevate both direction to cubics\n",
    "globalrefine!(S,1,7)                 # global refine direction 1\n",
    "globalrefine!(S,2,1)                 # global refine direction 1\n",
    "\n",
    "# compute and store dependent data\n",
    "S.dec = bezierdecompoperator(S)      # compute Bezier decomposition operator\n",
    "S.ien = ienarray(S)                  # determine ien array\n",
    "\n",
    "# plot geometry\n",
    "plot(S,(10,10));  axis(\"equal\"); xlim([-2.5;2.5]); grid(\"on\")    # plot surface\n",
    "plot(S.cpts[:,1], S.cpts[:,2],\"yo\")                              # plot nodal data"
   ]
  },
  {
   "cell_type": "markdown",
   "metadata": {},
   "source": [
    "### The IEN-array is given by:"
   ]
  },
  {
   "cell_type": "code",
   "execution_count": 18,
   "metadata": {
    "collapsed": false
   },
   "outputs": [
    {
     "data": {
      "text/plain": [
       "16x16 Array{Int64,2}:\n",
       "  1   2   3   4   5   6   7   8  12  13  14  15  16  17  18  19\n",
       "  2   3   4   5   6   7   8   9  13  14  15  16  17  18  19  20\n",
       "  3   4   5   6   7   8   9  10  14  15  16  17  18  19  20  21\n",
       "  4   5   6   7   8   9  10  11  15  16  17  18  19  20  21  22\n",
       " 12  13  14  15  16  17  18  19  23  24  25  26  27  28  29  30\n",
       " 13  14  15  16  17  18  19  20  24  25  26  27  28  29  30  31\n",
       " 14  15  16  17  18  19  20  21  25  26  27  28  29  30  31  32\n",
       " 15  16  17  18  19  20  21  22  26  27  28  29  30  31  32  33\n",
       " 23  24  25  26  27  28  29  30  34  35  36  37  38  39  40  41\n",
       " 24  25  26  27  28  29  30  31  35  36  37  38  39  40  41  42\n",
       " 25  26  27  28  29  30  31  32  36  37  38  39  40  41  42  43\n",
       " 26  27  28  29  30  31  32  33  37  38  39  40  41  42  43  44\n",
       " 34  35  36  37  38  39  40  41  45  46  47  48  49  50  51  52\n",
       " 35  36  37  38  39  40  41  42  46  47  48  49  50  51  52  53\n",
       " 36  37  38  39  40  41  42  43  47  48  49  50  51  52  53  54\n",
       " 37  38  39  40  41  42  43  44  48  49  50  51  52  53  54  55"
      ]
     },
     "execution_count": 18,
     "metadata": {},
     "output_type": "execute_result"
    }
   ],
   "source": [
    "S.ien"
   ]
  },
  {
   "cell_type": "markdown",
   "metadata": {},
   "source": [
    "### Next we define the problems specific data, such as material properties, boundary displacements and tractions, and the ID-array"
   ]
  },
  {
   "cell_type": "code",
   "execution_count": 19,
   "metadata": {
    "collapsed": false
   },
   "outputs": [
    {
     "data": {
      "text/plain": [
       "2x55 Array{Int64,2}:\n",
       " 0  2  4  6  8  10  12  14  16  18  20  …  90  92  94  96  98  100  102  104\n",
       " 1  3  5  7  9  11  13  15  17  19  21     91  93  95  97  99  101  103  105"
      ]
     },
     "execution_count": 19,
     "metadata": {},
     "output_type": "execute_result"
    }
   ],
   "source": [
    "# Hookean constitutive law\n",
    "ν = 0.3\n",
    "E = 10e5\n",
    "λ = ν*E / ((1+ν)*(1-2ν))\n",
    "μ = E   / (2*(1+ν))\n",
    "D(x::Vector{Float64}) = [λ+2μ    λ  0.0\n",
    "                         λ    λ+2μ  0.0;\n",
    "                         0.0   0.0    μ];\n",
    "\n",
    "# set righthandside forcing\n",
    "f(x::Vector{Float64}) = zeros(2)    \n",
    "\n",
    "# boundary displacements\n",
    "g(x::Vector{Float64}) = zeros(2)\n",
    "\n",
    "# set tractions\n",
    "function h(x::Vector{Float64})\n",
    "    T = [0.0; 0.0]\n",
    "    if abs(x[1]-2.0) < 1e-10\n",
    "        T = [10.0; 0.0]\n",
    "    end\n",
    "    return T\n",
    "end\n",
    "\n",
    "# set ID array\n",
    "ndofs = dimsplinespace(S)\n",
    "ID    = ones(Int64,2, prod(ndofs))              # initialize ID-array\n",
    "ID[1, ∂(S,1,1).ien[:]] = 0                      # restrain x-direction on left boundary (dir==1,k==1) \n",
    "\n",
    "id = 1\n",
    "for k in 1:length(ID)\n",
    "    if ID[k]!=0\n",
    "        ID[k] = id\n",
    "        id+=1\n",
    "    end\n",
    "end\n",
    "S.id = ID # set ID array"
   ]
  },
  {
   "cell_type": "markdown",
   "metadata": {},
   "source": [
    "### Solve the problem"
   ]
  },
  {
   "cell_type": "code",
   "execution_count": 20,
   "metadata": {
    "collapsed": false
   },
   "outputs": [],
   "source": [
    "# assmemble equations\n",
    "K, F = assembly(S, D, f, g, h)\n",
    "\n",
    "# compute unknown displacements\n",
    "U = zeros(Float64,size(ID))\n",
    "U[S.id.!=0] = K \\ F;            "
   ]
  },
  {
   "cell_type": "markdown",
   "metadata": {},
   "source": [
    "### Plot the deformed configuration. With factor $\\alpha$ the displacement fied can be magnified."
   ]
  },
  {
   "cell_type": "code",
   "execution_count": 21,
   "metadata": {
    "collapsed": false
   },
   "outputs": [
    {
     "data": {
      "image/png": "[encoded data removed]",
      "text/plain": [
       "PyPlot.Figure(PyObject <matplotlib.figure.Figure object at 0x31eae1450>)"
      ]
     },
     "metadata": {},
     "output_type": "display_data"
    },
    {
     "data": {
      "text/plain": [
       "1-element Array{Any,1}:\n",
       " PyObject <matplotlib.lines.Line2D object at 0x31dc06190>"
      ]
     },
     "execution_count": 21,
     "metadata": {},
     "output_type": "execute_result"
    }
   ],
   "source": [
    "α = 2000                                                     # magnification factor\n",
    "G = deepcopy(S)                                              # make a copy of the initial geometry\n",
    "G.cpts += α*U'                                               # update control points\n",
    "plot(G,(3,3)); axis(\"equal\"); xlim([-2.5;2.5]); grid(\"on\")   # plot deformed configuration\n",
    "plot(G.cpts[:,1], G.cpts[:,2],\"yo\")                          # plot nodal data"
   ]
  },
  {
   "cell_type": "markdown",
   "metadata": {},
   "source": [
    "### Plot the stress componenent in direction $k$."
   ]
  },
  {
   "cell_type": "code",
   "execution_count": 22,
   "metadata": {
    "collapsed": false
   },
   "outputs": [
    {
     "data": {
      "image/png": "[encoded data removed]",
      "text/plain": [
       "PyPlot.Figure(PyObject <matplotlib.figure.Figure object at 0x31dd53390>)"
      ]
     },
     "metadata": {},
     "output_type": "display_data"
    }
   ],
   "source": [
    "Sol = deepcopy(S); Sol.cpts = U'                                     # make a copy of the initial NURBS geometry\n",
    "k   = 1                                                              # Choose component of stress\n",
    "plot_stress_contours(S, Sol, k, linearspace(0.0,30.0,30), (10,10))   # plot the stress field"
   ]
  },
  {
   "cell_type": "markdown",
   "metadata": {},
   "source": [
    "# EXAMPLE 2: Circular Arc Problem"
   ]
  },
  {
   "cell_type": "code",
   "execution_count": 23,
   "metadata": {
    "collapsed": false
   },
   "outputs": [
    {
     "data": {
      "image/png": "[encoded data removed]",
      "text/plain": [
       "PyPlot.Figure(PyObject <matplotlib.figure.Figure object at 0x31e187990>)"
      ]
     },
     "metadata": {},
     "output_type": "display_data"
    }
   ],
   "source": [
    "# particulars\n",
    "p   = [2,1]                                                                  # polybnomial degree\n",
    "kts = Vector{Float64}[buildvector([0.0;1.0], [p[k]+1;p[k]+1]) for k in 1:2]  # knot vector\n",
    "\n",
    "# control points and weights\n",
    "X = [0.0 0.0; 1.0 2.0; 1.0 2.0];\n",
    "Y = [1.0 2.0; 1.0 2.0; 0.0 0.0];\n",
    "W = [1.0 1.0; 0.5sqrt(2.0) 0.5sqrt(2.0); 1.0 1.0];\n",
    "\n",
    "# construct patch\n",
    "S = NURBS(p,kts,[X[:] Y[:]],W[:])\n",
    "degreeelevate!(S,2,1)               # degree elevate the 2-direction\n",
    "degreeelevate!(S,1)                 # degree elevate both directions\n",
    "globalrefine!(S,1)                  # global refine both direction with 2 extra knots in each element \n",
    "\n",
    "# compute and store dependent data\n",
    "S.dec = bezierdecompoperator(S)      # compute Bezier decomposition operator\n",
    "S.ien = ienarray(S)                  # determine ien array\n",
    "\n",
    "# plot geometry\n",
    "plot(S,(10,10));                                                 # plot surface\n",
    "plot(S.cpts[:,1], S.cpts[:,2],\"yo\")                              # plot nodal data\n",
    "axis(\"equal\"); xlim([-0.5;2.5]); ylim([-0.5;2.5]); grid(\"on\")    # axis properties"
   ]
  },
  {
   "cell_type": "markdown",
   "metadata": {},
   "source": [
    "### Next we define the problems specific data, such as material properties, boundary displacements and tractions, and the ID-array"
   ]
  },
  {
   "cell_type": "code",
   "execution_count": 24,
   "metadata": {
    "collapsed": false
   },
   "outputs": [
    {
     "data": {
      "text/plain": [
       "2x25 Array{Int64,2}:\n",
       " 0  1  3  5  7  0   9  11  13  15  0  …  25  27  29  31  0  33  35  37  39\n",
       " 0  2  4  6  8  0  10  12  14  16  0     26  28  30  32  0  34  36  38  40"
      ]
     },
     "execution_count": 24,
     "metadata": {},
     "output_type": "execute_result"
    }
   ],
   "source": [
    "# Hookean constitutive law\n",
    "ν = 0.3\n",
    "E = 10e5\n",
    "λ = ν*E / ((1+ν)*(1-2ν))\n",
    "μ = E   / (2*(1+ν))\n",
    "D(x::Vector{Float64}) = [λ+2μ    λ  0.0\n",
    "                         λ    λ+2μ  0.0;\n",
    "                         0.0   0.0    μ];\n",
    "\n",
    "# set righthandside forcing\n",
    "f(x::Vector{Float64}) = zeros(2)    \n",
    "\n",
    "# boundary displacements\n",
    "g(x::Vector{Float64}) = zeros(2)\n",
    "\n",
    "# set tractions\n",
    "function h(x::Vector{Float64})\n",
    "    T = [0.0; 0.0]\n",
    "    if abs(x[2]) < 1e-10\n",
    "        T = [0.0; -10.0]\n",
    "    end\n",
    "    return T\n",
    "end\n",
    "\n",
    "# set ID array for hole in plate problem\n",
    "ndofs = dimsplinespace(S)\n",
    "ID    = ones(Int64,2, prod(ndofs))              # initialize ID-array\n",
    "ID[1, ∂(S,1,1).ien[:]] = 0                      # restrain x-direction on left boundary (dir==1,k==1)  \n",
    "ID[2, ∂(S,1,1).ien[:]] = 0                      # restrain y-direction on left boundary (dir==1,k==1)    \n",
    "\n",
    "id = 1\n",
    "for k in 1:length(ID)\n",
    "    if ID[k]!=0\n",
    "        ID[k] = id\n",
    "        id+=1\n",
    "    end\n",
    "end\n",
    "S.id = ID # set ID array"
   ]
  },
  {
   "cell_type": "markdown",
   "metadata": {},
   "source": [
    "### Solve the problem"
   ]
  },
  {
   "cell_type": "code",
   "execution_count": 25,
   "metadata": {
    "collapsed": false
   },
   "outputs": [],
   "source": [
    "# assmemble equations\n",
    "K, F = assembly(S, D, f, g, h)\n",
    "\n",
    "# compute unknown displacements\n",
    "U = zeros(Float64,size(ID))\n",
    "U[S.id.!=0] = K \\ F;  "
   ]
  },
  {
   "cell_type": "markdown",
   "metadata": {},
   "source": [
    "### Plot the deformed configuration. With factor $\\alpha$ the displacement fied can be magnified."
   ]
  },
  {
   "cell_type": "code",
   "execution_count": 26,
   "metadata": {
    "collapsed": false
   },
   "outputs": [
    {
     "data": {
      "image/png": "[encoded data removed]",
      "text/plain": [
       "PyPlot.Figure(PyObject <matplotlib.figure.Figure object at 0x31e73ce50>)"
      ]
     },
     "metadata": {},
     "output_type": "display_data"
    },
    {
     "data": {
      "text/plain": [
       "1-element Array{Any,1}:\n",
       " PyObject <matplotlib.lines.Line2D object at 0x31f28e210>"
      ]
     },
     "execution_count": 26,
     "metadata": {},
     "output_type": "execute_result"
    }
   ],
   "source": [
    "α = 1000                                                      # magnification factor\n",
    "G = deepcopy(S)                                               # make a copy of the initial geometry\n",
    "G.cpts += α*U'                                                # update control points\n",
    "plot(G,(10,10));                                              # plot deformed configuration\n",
    "axis(\"equal\"); xlim([-0.5;2.5]); ylim([-0.5;2.5]); grid(\"on\") # axis properties\n",
    "plot(G.cpts[:,1], G.cpts[:,2],\"yo\")                           # plot nodal data"
   ]
  },
  {
   "cell_type": "markdown",
   "metadata": {},
   "source": [
    "### Plot the stress componenent in direction $k$."
   ]
  },
  {
   "cell_type": "code",
   "execution_count": 27,
   "metadata": {
    "collapsed": false
   },
   "outputs": [
    {
     "data": {
      "image/png": "[encoded data removed]",
      "text/plain": [
       "PyPlot.Figure(PyObject <matplotlib.figure.Figure object at 0x31efe8a50>)"
      ]
     },
     "metadata": {},
     "output_type": "display_data"
    }
   ],
   "source": [
    "Sol = deepcopy(S); Sol.cpts = U'                                         # make a copy of the initial NURBS geometry\n",
    "k   = 1                                                                  # Choose component of stress\n",
    "plot_stress_contours(S, Sol, k, linearspace(-120.0,120.0,30), (10,10))   # plot the stress field"
   ]
  },
  {
   "cell_type": "markdown",
   "metadata": {},
   "source": [
    "# Homework assignment: Hole in plate problem"
   ]
  },
  {
   "cell_type": "code",
   "execution_count": null,
   "metadata": {
    "collapsed": true
   },
   "outputs": [],
   "source": []
  },
  {
   "cell_type": "code",
   "execution_count": null,
   "metadata": {
    "collapsed": true
   },
   "outputs": [],
   "source": []
  }
 ],
 "metadata": {
  "kernelspec": {
   "display_name": "Julia 0.4.2",
   "language": "julia",
   "name": "julia-0.4"
  },
  "language_info": {
   "file_extension": ".jl",
   "mimetype": "application/julia",
   "name": "julia",
   "version": "0.4.2"
  }
 },
 "nbformat": 4,
 "nbformat_minor": 0
}
